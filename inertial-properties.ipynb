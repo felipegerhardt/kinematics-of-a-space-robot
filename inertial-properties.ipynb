{
 "metadata": {
  "language_info": {
   "codemirror_mode": {
    "name": "ipython",
    "version": 3
   },
   "file_extension": ".py",
   "mimetype": "text/x-python",
   "name": "python",
   "nbconvert_exporter": "python",
   "pygments_lexer": "ipython3",
   "version": "3.7.3-final"
  },
  "orig_nbformat": 2,
  "kernelspec": {
   "name": "python3",
   "display_name": "Python 3",
   "language": "python"
  }
 },
 "nbformat": 4,
 "nbformat_minor": 2,
 "cells": [
  {
   "source": [
    "### Center of mass and inertial properties\n",
    "\n",
    "Similarly to the points and locations notebook, the center of mass from all the bodies is defined by creating a `Point` object and positioning it on the body with the `Point.set_pos` method, all symbolic."
   ],
   "cell_type": "markdown",
   "metadata": {}
  },
  {
   "cell_type": "code",
   "execution_count": 6,
   "metadata": {},
   "outputs": [],
   "source": [
    "from reference_frame_solution import *\n",
    "from points_location_solution import *\n",
    "from sympy.physics.mechanics import Point, dynamicsymbols\n",
    "from sympy import symbols, simplify, init_printing\n",
    "init_printing(use_latex='mathjax', pretty_print=False)"
   ]
  },
  {
   "cell_type": "code",
   "execution_count": 7,
   "metadata": {},
   "outputs": [
    {
     "output_type": "execute_result",
     "data": {
      "text/plain": [
       "(d_L, d_U, d_H, d_F1, d_F2)"
      ],
      "text/latex": "$\\displaystyle \\left( d_{L}, \\  d_{U}, \\  d_{H}, \\  d_{F1}, \\  d_{F2}\\right)$"
     },
     "metadata": {},
     "execution_count": 7
    }
   ],
   "source": [
    "# Creating points objects\n",
    "lower_arm_mass_center, upper_arm_mass_center, hand_mass_center, finger1_mass_center, finger2_mass_center = Point('L_o'), Point('U_o'), Point('H_o'), Point('F1_o'), Point('F2_o') \n",
    "\n",
    "# Creating lengths symbols\n",
    "lower_arm_com_length, upper_arm_com_length, hand_com_length, finger1_com_length, finger2_com_length = symbols('d_L, d_U, d_H, d_F1, d_F2') \n",
    "\n",
    "lower_arm_com_length, upper_arm_com_length, hand_com_length, finger1_com_length, finger2_com_length"
   ]
  },
  {
   "cell_type": "code",
   "execution_count": 8,
   "metadata": {},
   "outputs": [
    {
     "output_type": "execute_result",
     "data": {
      "text/plain": [
       "(d_L*L.y, l_L*L.y + d_U*U.y, l_L*L.y + l_U*U.y + d_H*H.y, l_L*L.y + l_U*U.y + l_H*H.y + d_F1*F1.y, l_L*L.y + l_U*U.y + l_H*H.y + d_F2*F2.y)"
      ],
      "text/latex": "$\\displaystyle \\left( d_{L}\\mathbf{\\hat{l}_y}, \\  d_{U}\\mathbf{\\hat{u}_y} + l_{L}\\mathbf{\\hat{l}_y}, \\  d_{H}\\mathbf{\\hat{h}_y} + l_{U}\\mathbf{\\hat{u}_y} + l_{L}\\mathbf{\\hat{l}_y}, \\  d_{F1}\\mathbf{\\hat{f1}_y} + l_{H}\\mathbf{\\hat{h}_y} + l_{U}\\mathbf{\\hat{u}_y} + l_{L}\\mathbf{\\hat{l}_y}, \\  d_{F2}\\mathbf{\\hat{f2}_y} + l_{H}\\mathbf{\\hat{h}_y} + l_{U}\\mathbf{\\hat{u}_y} + l_{L}\\mathbf{\\hat{l}_y}\\right)$"
     },
     "metadata": {},
     "execution_count": 8
    }
   ],
   "source": [
    "# Positioning de centers of mass\n",
    "lower_arm_mass_center.set_pos(ground_joint, lower_arm_com_length * lower_arm_frame.y)\n",
    "\n",
    "upper_arm_mass_center.set_pos(lower_arm_joint, upper_arm_com_length * upper_arm_frame.y)\n",
    "\n",
    "hand_mass_center.set_pos(upper_arm_joint, hand_com_length * hand_frame.y)\n",
    "\n",
    "finger1_mass_center.set_pos(hand_joint, finger1_com_length * finger1_frame.y)\n",
    "\n",
    "finger2_mass_center.set_pos(hand_joint, finger2_com_length * finger2_frame.y)\n",
    "\n",
    "# Display the centers of mass for each body\n",
    "lower_arm_mass_center.pos_from(ground_joint), upper_arm_mass_center.pos_from(ground_joint), hand_mass_center.pos_from(ground_joint), finger1_mass_center.pos_from(ground_joint), finger2_mass_center.pos_from(ground_joint)\n"
   ]
  },
  {
   "source": [
    "---\n",
    "#### Mass \n",
    "As the mass centers provides resistance to linear acceleration, so does the rotational inertia to angular acceleration. To hold the inertial properties information, we need to create a `RigidBody` object for each body. The `symbols` method is used for symbolic manipulation of constants, such as the masses and rotational inertia."
   ],
   "cell_type": "markdown",
   "metadata": {}
  },
  {
   "cell_type": "code",
   "execution_count": 9,
   "metadata": {},
   "outputs": [],
   "source": [
    "from sympy.physics.mechanics import inertia, RigidBody\n",
    "from sympy import symbols"
   ]
  },
  {
   "cell_type": "code",
   "execution_count": 10,
   "metadata": {},
   "outputs": [
    {
     "output_type": "execute_result",
     "data": {
      "text/plain": [
       "(m_L, m_U, m_H, m_F1, m_F2)"
      ],
      "text/latex": "$\\displaystyle \\left( m_{L}, \\  m_{U}, \\  m_{H}, \\  m_{F1}, \\  m_{F2}\\right)$"
     },
     "metadata": {},
     "execution_count": 10
    }
   ],
   "source": [
    "# Creating symbolic constants\n",
    "lower_arm_mass, upper_arm_mass, hand_mass, finger1_mass, finger2_mass = symbols('m_L, m_U, m_H, m_F1, m_F2')\n",
    "lower_arm_mass, upper_arm_mass, hand_mass, finger1_mass, finger2_mass"
   ]
  },
  {
   "source": [
    "---\n",
    "#### Rotational inertia\n",
    "Since the problem is considered to be 2D, we consider that the rotations of the bodies are on the `z` axis and the bodies are symmetric on the `XZ` and `YZ` planes. Because of these assumptions, we only need a single variable for each rigid body to specify the rotational inertia."
   ],
   "cell_type": "markdown",
   "metadata": {}
  },
  {
   "cell_type": "code",
   "execution_count": 11,
   "metadata": {},
   "outputs": [
    {
     "output_type": "execute_result",
     "data": {
      "text/plain": [
       "(I_Lz, I_Uz, I_Hz, I_F1z, I_F2z)"
      ],
      "text/latex": "$\\displaystyle \\left( I_{Lz}, \\  I_{Uz}, \\  I_{Hz}, \\  I_{F1z}, \\  I_{F2z}\\right)$"
     },
     "metadata": {},
     "execution_count": 11
    }
   ],
   "source": [
    "lower_arm_inertia, upper_arm_inertia, hand_inertia, finger1_inertia, finger2_inertia = symbols('I_Lz, I_Uz, I_Hz, I_F1z, I_F2z')\n",
    "lower_arm_inertia, upper_arm_inertia, hand_inertia, finger1_inertia, finger2_inertia "
   ]
  },
  {
   "source": [
    "---\n",
    "#### Inertia Dyadic\n",
    "In multilinear algebra, a dyadics is defined as a second order tensor. To better understad, note that a tensor of order zero is essentially an scalar. A tensor of order one is a vector, whereas a tensor of order two (or second order tensor) is may be defined as an operator that acts on a vector generating another vector.\n",
    "\n",
    "One example of a dyadic is the inertia dyadic, which is a basis dependent tensor. The angular momentum, which is a vector, of a rigid body is the result of the cross product between the inertia dyadic and the angular velocity vector."
   ],
   "cell_type": "markdown",
   "metadata": {}
  },
  {
   "source": [
    "The `inertia` function creates the inertia dyadics by specifying a reference frame to calculate the inertia from. We will define the inertia of all rigid bodies with respect to its mass center:"
   ],
   "cell_type": "markdown",
   "metadata": {}
  },
  {
   "cell_type": "code",
   "execution_count": 14,
   "metadata": {},
   "outputs": [
    {
     "output_type": "execute_result",
     "data": {
      "text/plain": [
       "(I_Lz*(L.z|L.z), I_Uz*(U.z|U.z), I_Hz*(H.z|H.z), I_F1z*(F1.z|F1.z), I_F2z*(F2.z|F2.z))"
      ],
      "text/latex": "$\\displaystyle \\left( I_{Lz}\\mathbf{\\hat{l}_z}\\otimes \\mathbf{\\hat{l}_z}, \\  I_{Uz}\\mathbf{\\hat{u}_z}\\otimes \\mathbf{\\hat{u}_z}, \\  I_{Hz}\\mathbf{\\hat{h}_z}\\otimes \\mathbf{\\hat{h}_z}, \\  I_{F1z}\\mathbf{\\hat{f1}_z}\\otimes \\mathbf{\\hat{f1}_z}, \\  I_{F2z}\\mathbf{\\hat{f2}_z}\\otimes \\mathbf{\\hat{f2}_z}\\right)$"
     },
     "metadata": {},
     "execution_count": 14
    }
   ],
   "source": [
    "# Lower arm inertia dyadic\n",
    "lower_arm_inertia_dyadic = inertia(lower_arm_frame, 0, 0, lower_arm_inertia)\n",
    "\n",
    "# Upper arm inertia dyadic\n",
    "upper_arm_inertia_dyadic = inertia(upper_arm_frame, 0, 0, upper_arm_inertia)\n",
    "\n",
    "# Hand inertia dyadic\n",
    "hand_inertia_dyadic = inertia(hand_frame, 0, 0, hand_inertia)\n",
    "\n",
    "# Finger1 inertia dyadic\n",
    "finger1_inertia_dyadic = inertia(finger1_frame, 0, 0, finger1_inertia)\n",
    "\n",
    "# Finger2 inertia dyadic\n",
    "finger2_inertia_dyadic = inertia(finger2_frame, 0, 0, finger2_inertia)\n",
    "\n",
    "lower_arm_inertia_dyadic, upper_arm_inertia_dyadic, hand_inertia_dyadic, finger1_inertia_dyadic, finger2_inertia_dyadic"
   ]
  },
  {
   "source": [
    "If you want to see what the inertia is expressed in a particular frame, we can use the to_matrix() method:"
   ],
   "cell_type": "markdown",
   "metadata": {}
  },
  {
   "cell_type": "code",
   "execution_count": 19,
   "metadata": {},
   "outputs": [
    {
     "output_type": "execute_result",
     "data": {
      "text/plain": [
       "Matrix([\n",
       "[0, 0,    0],\n",
       "[0, 0,    0],\n",
       "[0, 0, I_Lz]])"
      ],
      "text/latex": "$\\displaystyle \\left[\\begin{matrix}0 & 0 & 0\\\\0 & 0 & 0\\\\0 & 0 & I_{Lz}\\end{matrix}\\right]$"
     },
     "metadata": {},
     "execution_count": 19
    }
   ],
   "source": [
    "lower_arm_inertia_dyadic.to_matrix(lower_arm_frame)"
   ]
  },
  {
   "cell_type": "code",
   "execution_count": null,
   "metadata": {},
   "outputs": [],
   "source": []
  }
 ]
}