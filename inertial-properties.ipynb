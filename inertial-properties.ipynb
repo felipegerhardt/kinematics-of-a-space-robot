{
 "metadata": {
  "language_info": {
   "codemirror_mode": {
    "name": "ipython",
    "version": 3
   },
   "file_extension": ".py",
   "mimetype": "text/x-python",
   "name": "python",
   "nbconvert_exporter": "python",
   "pygments_lexer": "ipython3",
   "version": "3.7.3-final"
  },
  "orig_nbformat": 2,
  "kernelspec": {
   "name": "python3",
   "display_name": "Python 3",
   "language": "python"
  }
 },
 "nbformat": 4,
 "nbformat_minor": 2,
 "cells": [
  {
   "source": [
    "### Center of mass and inertial properties\n",
    "\n",
    "Similarly to the points and locations notebook, the center of mass from all the bodies is defined by creating a `Point` object and positioning it on the body with the `Point.set_pos` method, all symbolic."
   ],
   "cell_type": "markdown",
   "metadata": {}
  },
  {
   "cell_type": "code",
   "execution_count": 17,
   "metadata": {},
   "outputs": [],
   "source": [
    "from reference_frame_solution import *\n",
    "from points_location_solution import *\n",
    "from sympy.physics.mechanics import Point, dynamicsymbols\n",
    "from sympy import symbols, simplify, init_printing\n",
    "init_printing(use_latex='mathjax', pretty_print=False)"
   ]
  },
  {
   "cell_type": "code",
   "execution_count": 18,
   "metadata": {},
   "outputs": [
    {
     "output_type": "execute_result",
     "data": {
      "text/plain": [
       "(d_L, d_U, d_H, d_F1, d_F2)"
      ],
      "text/latex": "$\\displaystyle \\left( d_{L}, \\  d_{U}, \\  d_{H}, \\  d_{F1}, \\  d_{F2}\\right)$"
     },
     "metadata": {},
     "execution_count": 18
    }
   ],
   "source": [
    "# Creating points objects\n",
    "lower_arm_mass_center, upper_arm_mass_center, hand_mass_center, finger1_mass_center, finger2_mass_center = Point('L_o'), Point('U_o'), Point('H_o'), Point('F1_o'), Point('F2_o') \n",
    "\n",
    "# Creating lengths symbols\n",
    "lower_arm_com_length, upper_arm_com_length, hand_com_length, finger1_com_length, finger2_com_length = symbols('d_L, d_U, d_H, d_F1, d_F2') \n",
    "\n",
    "lower_arm_com_length, upper_arm_com_length, hand_com_length, finger1_com_length, finger2_com_length"
   ]
  },
  {
   "cell_type": "code",
   "execution_count": 21,
   "metadata": {},
   "outputs": [
    {
     "output_type": "execute_result",
     "data": {
      "text/plain": [
       "(d_L*L.y, l_L*L.y + d_U*U.y, l_L*L.y + l_U*U.y + d_H*H.y, l_L*L.y + l_U*U.y + l_H*H.y + d_F1*F1.y, l_L*L.y + l_U*U.y + l_H*H.y + d_F2*F2.y)"
      ],
      "text/latex": "$\\displaystyle \\left( d_{L}\\mathbf{\\hat{l}_y}, \\  d_{U}\\mathbf{\\hat{u}_y} + l_{L}\\mathbf{\\hat{l}_y}, \\  d_{H}\\mathbf{\\hat{h}_y} + l_{U}\\mathbf{\\hat{u}_y} + l_{L}\\mathbf{\\hat{l}_y}, \\  d_{F1}\\mathbf{\\hat{f1}_y} + l_{H}\\mathbf{\\hat{h}_y} + l_{U}\\mathbf{\\hat{u}_y} + l_{L}\\mathbf{\\hat{l}_y}, \\  d_{F2}\\mathbf{\\hat{f2}_y} + l_{H}\\mathbf{\\hat{h}_y} + l_{U}\\mathbf{\\hat{u}_y} + l_{L}\\mathbf{\\hat{l}_y}\\right)$"
     },
     "metadata": {},
     "execution_count": 21
    }
   ],
   "source": [
    "# Positioning de centers of mass\n",
    "lower_arm_mass_center.set_pos(ground_joint, lower_arm_com_length * lower_arm_frame.y)\n",
    "\n",
    "upper_arm_mass_center.set_pos(lower_arm_joint, upper_arm_com_length * upper_arm_frame.y)\n",
    "\n",
    "hand_mass_center.set_pos(upper_arm_joint, hand_com_length * hand_frame.y)\n",
    "\n",
    "finger1_mass_center.set_pos(hand_joint, finger1_com_length * finger1_frame.y)\n",
    "\n",
    "finger2_mass_center.set_pos(hand_joint, finger2_com_length * finger2_frame.y)\n",
    "\n",
    "# Display the centers of mass for each body\n",
    "lower_arm_mass_center.pos_from(ground_joint), upper_arm_mass_center.pos_from(ground_joint), hand_mass_center.pos_from(ground_joint), finger1_mass_center.pos_from(ground_joint), finger2_mass_center.pos_from(ground_joint)\n"
   ]
  },
  {
   "cell_type": "code",
   "execution_count": null,
   "metadata": {},
   "outputs": [],
   "source": []
  }
 ]
}