{
 "metadata": {
  "language_info": {
   "codemirror_mode": {
    "name": "ipython",
    "version": 3
   },
   "file_extension": ".py",
   "mimetype": "text/x-python",
   "name": "python",
   "nbconvert_exporter": "python",
   "pygments_lexer": "ipython3",
   "version": "3.7.3-final"
  },
  "orig_nbformat": 2,
  "kernelspec": {
   "name": "python3",
   "display_name": "Python 3",
   "language": "python"
  }
 },
 "nbformat": 4,
 "nbformat_minor": 2,
 "cells": [
  {
   "source": [
    "### Animation\n",
    "\n",
    "For the 3D visualization of the movement, "
   ],
   "cell_type": "markdown",
   "metadata": {}
  },
  {
   "cell_type": "code",
   "execution_count": 58,
   "metadata": {},
   "outputs": [],
   "source": [
    "from __future__ import print_function, division\n",
    "from simulation_solution import *\n",
    "from pydy.viz.shapes import Cylinder, Sphere\n",
    "import pydy.viz"
   ]
  },
  {
   "cell_type": "code",
   "execution_count": 59,
   "metadata": {},
   "outputs": [],
   "source": [
    "from pydy.viz.visualization_frame import VisualizationFrame\n",
    "from pydy.viz.scene import Scene"
   ]
  },
  {
   "cell_type": "code",
   "execution_count": 60,
   "metadata": {},
   "outputs": [],
   "source": [
    "ground_joint_shape = Sphere(color='black', radius=0.1)\n",
    "lower_arm_joint_shape = Sphere(color='black', radius=0.1)\n",
    "upper_arm_joint_shape = Sphere(color='black', radius=0.1)\n",
    "hand_joint_shape = Sphere(color='black', radius=0.1)\n",
    "\n",
    "grund_viz_frame = VisualizationFrame(inertial_frame, ground_joint, ground_joint_shape)\n",
    "lower_arm_viz_frame = VisualizationFrame(inertial_frame, lower_arm_joint, lower_arm_joint_shape)\n",
    "upper_arm_viz_frame = VisualizationFrame(inertial_frame, upper_arm_joint, upper_arm_joint_shape)\n",
    "hand_viz_frame = VisualizationFrame(inertial_frame, hand_joint, hand_joint_shape)"
   ]
  },
  {
   "cell_type": "code",
   "execution_count": 61,
   "metadata": {},
   "outputs": [],
   "source": [
    "lower_arm_center = Point('l_c')\n",
    "upper_arm_center = Point('u_c')\n",
    "hand_center = Point('t_c')\n",
    "finger1_center = Point('t_f1')\n",
    "finger2_center = Point('t_f2')\n",
    "\n",
    "lower_arm_center.set_pos(ground_joint, lower_arm_length / 2 * lower_arm_frame.y)\n",
    "upper_arm_center.set_pos(lower_arm_joint, upper_arm_length / 2 * upper_arm_frame.y)\n",
    "hand_center.set_pos(upper_arm_joint, hand_length / 2 * hand_frame.y)\n",
    "finger1_center.set_pos(hand_joint, finger1_length * finger1_frame.y)\n",
    "finger2_center.set_pos(hand_joint, finger2_length * finger2_frame.y)\n",
    "\n",
    "constants_dict = dict(zip(constants, numerical_constants))"
   ]
  },
  {
   "cell_type": "code",
   "execution_count": 62,
   "metadata": {},
   "outputs": [],
   "source": [
    "# Lower arm shape and visualization frame\n",
    "lower_arm_shape = Cylinder(radius=0.08, length=constants_dict[lower_arm_length], color='blue')\n",
    "lower_arm_viz_frame = VisualizationFrame('Lower Arm', lower_arm_frame, lower_arm_center, lower_arm_shape)\n",
    "\n",
    "# Upper arm shape and visualization frame\n",
    "upper_arm_shape = Cylinder(radius=0.08, length=constants_dict[upper_arm_length], color='blue')\n",
    "upper_arm_viz_frame = VisualizationFrame('Upper Arm', upper_arm_frame, upper_arm_center, upper_arm_shape)\n",
    "\n",
    "# Hand shape and visualization frame\n",
    "hand_shape = Cylinder(radius=0.08, length=constants_dict[hand_length], color='blue')\n",
    "hand_viz_frame = VisualizationFrame('Hand', hand_frame, hand_center, hand_shape)\n",
    "\n",
    "# Finger 1 shape and visualization frame\n",
    "finger1_shape = Cylinder(radius=0.08, length=constants_dict[finger1_length], color='blue')\n",
    "finger1_viz_frame = VisualizationFrame('Finger 1', finger1_frame, finger1_center, finger1_shape)\n",
    "\n",
    "# Finger 2 and visualization frame\n",
    "finger2_shape = Cylinder(radius=0.08, length=constants_dict[finger2_length], color='blue')\n",
    "finger2_viz_frame = VisualizationFrame('Finger 2', finger2_frame, finger2_center, finger2_shape)"
   ]
  },
  {
   "cell_type": "code",
   "execution_count": 63,
   "metadata": {},
   "outputs": [],
   "source": [
    "scene = Scene(inertial_frame, ground_joint)"
   ]
  },
  {
   "cell_type": "code",
   "execution_count": 64,
   "metadata": {},
   "outputs": [],
   "source": [
    "scene.visualization_frames = [grund_viz_frame,\n",
    "                              lower_arm_viz_frame, \n",
    "                              upper_arm_viz_frame, \n",
    "                              hand_viz_frame, \n",
    "                              lower_arm_viz_frame,\n",
    "                              upper_arm_viz_frame,\n",
    "                              hand_viz_frame,\n",
    "                              finger1_viz_frame,\n",
    "                              finger2_viz_frame]"
   ]
  },
  {
   "cell_type": "code",
   "execution_count": 65,
   "metadata": {},
   "outputs": [],
   "source": [
    "scene.states_symbols = coordinates + speeds\n",
    "scene.constants = constants_dict\n",
    "scene.states_trajectories = y"
   ]
  },
  {
   "cell_type": "code",
   "execution_count": 66,
   "metadata": {},
   "outputs": [
    {
     "output_type": "display_data",
     "data": {
      "text/plain": "HTML(value='<!DOCTYPE html>\\n<html lang=\"en\">\\n\\n  <head>\\n\\n    <meta http-equiv=\"Content-Type\" content=\"text…",
      "application/vnd.jupyter.widget-view+json": {
       "version_major": 2,
       "version_minor": 0,
       "model_id": "c04f1742390846a69940e002cda27e13"
      }
     },
     "metadata": {}
    }
   ],
   "source": [
    "scene.display_ipython()"
   ]
  }
 ]
}