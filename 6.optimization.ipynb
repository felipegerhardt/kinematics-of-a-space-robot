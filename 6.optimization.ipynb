{
 "metadata": {
  "language_info": {
   "codemirror_mode": {
    "name": "ipython",
    "version": 3
   },
   "file_extension": ".py",
   "mimetype": "text/x-python",
   "name": "python",
   "nbconvert_exporter": "python",
   "pygments_lexer": "ipython3",
   "version": 3
  },
  "orig_nbformat": 2
 },
 "nbformat": 4,
 "nbformat_minor": 2,
 "cells": [
  {
   "source": [
    "### Optimization\n",
    "\n",
    "The idea of this optimization for this study will be focused in the specified torques inputed in the system. The main goal is to find a non-linear function for the torques such that the system is as close as we need to the final position.\n",
    "\n",
    "The input of the XX layer neural network will be the specifies torques for each time, whereas the output will be the generalized coordinates. "
   ],
   "cell_type": "markdown",
   "metadata": {}
  }
 ]
}