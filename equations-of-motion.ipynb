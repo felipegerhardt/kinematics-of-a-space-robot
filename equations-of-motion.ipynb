{
 "metadata": {
  "language_info": {
   "codemirror_mode": {
    "name": "ipython",
    "version": 3
   },
   "file_extension": ".py",
   "mimetype": "text/x-python",
   "name": "python",
   "nbconvert_exporter": "python",
   "pygments_lexer": "ipython3",
   "version": "3.7.3-final"
  },
  "orig_nbformat": 2,
  "kernelspec": {
   "name": "python3",
   "display_name": "Python 3",
   "language": "python"
  }
 },
 "nbformat": 4,
 "nbformat_minor": 2,
 "cells": [
  {
   "source": [
    "### Equations of motion\n",
    "\n",
    "First, to completely define the rigid bodies, all the information in the previous notebook must be, that is: the mass center points, the reference frames and the inertia. Then, we must declare the effect of gravity in all rigid bodies. \n",
    "\n",
    "Also, we must specify the joint torques that will simulate the driving forces upon the arm parts.\n",
    "\n",
    "Finally, we derive the equations of motion of the system using Kane's Method."
   ],
   "cell_type": "markdown",
   "metadata": {}
  },
  {
   "source": [
    "---\n",
    "#### Declaring the rigid bodies\n",
    "\n",
    "Below, we use the `RigidBody` method to define each rigid body:"
   ],
   "cell_type": "markdown",
   "metadata": {}
  },
  {
   "cell_type": "code",
   "execution_count": 2,
   "metadata": {},
   "outputs": [],
   "source": [
    "from inertial_properties_solution import *\n",
    "from sympy.physics.mechanics import RigidBody"
   ]
  },
  {
   "cell_type": "code",
   "execution_count": 5,
   "metadata": {},
   "outputs": [],
   "source": [
    "# Lower arm rigid body\n",
    "lower_arm = RigidBody('Lower Arm', lower_arm_mass_center, lower_arm_frame, \n",
    "                     lower_arm_mass, lower_arm_central_inertia)\n",
    "\n",
    "# Upper arm rigid body\n",
    "upper_arm = RigidBody('Upper Arm', upper_arm_mass_center, upper_arm_frame, \n",
    "                     upper_arm_mass, upper_arm_central_inertia)\n",
    "\n",
    "# Hand rigid body\n",
    "hand = RigidBody('Hand', hand_mass_center, hand_frame, \n",
    "                     hand_mass, hand_central_inertia)\n",
    "\n",
    "# Finger1 rigid body\n",
    "finger1 = RigidBody('Finger 1', finger1_mass_center, finger1_frame, \n",
    "                     finger1_mass, finger1_central_inertia)\n",
    "\n",
    "# Finge2 rigid body\n",
    "finger2 = RigidBody('Finger 2', finger2_mass_center, finger2_frame, \n",
    "                     finger2_mass, finger2_central_inertia)"
   ]
  },
  {
   "source": [
    "---\n",
    "#### Gravity effects\n",
    "\n",
    "First, declare a `symbols` variable, since gravity value is considered to be constant. Then, since forces are bound vectors, i.e. they act on a point, we must associate the force with the mass of each rigid body in the `y` direction of the inertial reference frame."
   ],
   "cell_type": "markdown",
   "metadata": {}
  },
  {
   "cell_type": "code",
   "execution_count": 8,
   "metadata": {},
   "outputs": [
    {
     "output_type": "execute_result",
     "data": {
      "text/plain": [
       "(- g*m_L*I.y, - g*m_U*I.y, - g*m_H*I.y, - g*m_F1*I.y, - g*m_F2*I.y)"
      ],
      "text/latex": "$\\displaystyle \\left( -  g m_{L}\\mathbf{\\hat{i}_y}, \\  -  g m_{U}\\mathbf{\\hat{i}_y}, \\  -  g m_{H}\\mathbf{\\hat{i}_y}, \\  -  g m_{F1}\\mathbf{\\hat{i}_y}, \\  -  g m_{F2}\\mathbf{\\hat{i}_y}\\right)$"
     },
     "metadata": {},
     "execution_count": 8
    }
   ],
   "source": [
    "g = symbols('g')\n",
    "\n",
    "# Force acting on the lower arm mass center\n",
    "lower_arm_grav_force_vector = -lower_arm_mass * g * inertial_frame.y\n",
    "\n",
    "# Force acting on the upper arm mass center\n",
    "upper_arm_grav_force_vector = -upper_arm_mass * g * inertial_frame.y\n",
    "\n",
    "# Force acting on the hand mass center\n",
    "hand_grav_force_vector = -hand_mass * g * inertial_frame.y\n",
    "\n",
    "# Force acting on the finger 1 mass center\n",
    "finger1_grav_force_vector = -finger1_mass * g * inertial_frame.y\n",
    "\n",
    "# Force acting on the finger2 mass center\n",
    "finger2_grav_force_vector = -finger2_mass * g * inertial_frame.y\n",
    "\n",
    "lower_arm_grav_force_vector, upper_arm_grav_force_vector,  hand_grav_force_vector, finger1_grav_force_vector, finger2_grav_force_vector\n"
   ]
  },
  {
   "source": [
    "Now, we make a tuple to represent the bound vector acting on the mass center of each rigid body:"
   ],
   "cell_type": "markdown",
   "metadata": {}
  },
  {
   "cell_type": "code",
   "execution_count": 9,
   "metadata": {},
   "outputs": [],
   "source": [
    "# Lower arm gravity force tuple\n",
    "lower_arm_grav_force = (lower_arm_mass_center, lower_arm_grav_force_vector)\n",
    "\n",
    "# Upper arm gravity force tuple\n",
    "upper_arm_grav_force = (upper_arm_mass_center, upper_arm_grav_force_vector)\n",
    "\n",
    "# Hand gravity force tuple\n",
    "hand_grav_force = (hand_mass_center, hand_grav_force_vector)\n",
    "\n",
    "# Finger 1 gravity force tuple\n",
    "finger1_grav_force = (finger1_mass_center, finger1_grav_force_vector)\n",
    "\n",
    "# Finger 2 gravity force tuple\n",
    "finger2_grav_force = (finger2_mass_center, finger2_grav_force_vector)"
   ]
  },
  {
   "source": [
    "#### Joint torques\n",
    "\n",
    "As the movement "
   ],
   "cell_type": "markdown",
   "metadata": {}
  }
 ]
}