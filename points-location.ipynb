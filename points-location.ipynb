{
 "metadata": {
  "language_info": {
   "codemirror_mode": {
    "name": "ipython",
    "version": 3
   },
   "file_extension": ".py",
   "mimetype": "text/x-python",
   "name": "python",
   "nbconvert_exporter": "python",
   "pygments_lexer": "ipython3",
   "version": "3.7.3-final"
  },
  "orig_nbformat": 2,
  "kernelspec": {
   "name": "python3",
   "display_name": "Python 3",
   "language": "python"
  }
 },
 "nbformat": 4,
 "nbformat_minor": 2,
 "cells": [
  {
   "source": [
    "## Points and locations\n",
    "The equations of motion of the system requires the mass center of each rigid body. First, we define the points that locate the 4 joints of the system, i.e.:\n",
    "- Ground joint;\n",
    "- Lower arm joint;\n",
    "- Upper arm joint;\n",
    "- Hand joint."
   ],
   "cell_type": "markdown",
   "metadata": {}
  },
  {
   "cell_type": "code",
   "execution_count": 5,
   "metadata": {},
   "outputs": [],
   "source": [
    "from reference_frame_solution import * # Importing the output of reference-frame file\n",
    "from sympy.physics.mechanics import Point, dynamicsymbols\n",
    "from sympy import symbols, simplify"
   ]
  },
  {
   "cell_type": "code",
   "execution_count": 3,
   "metadata": {},
   "outputs": [],
   "source": [
    "ground_joint, lower_arm_joint, upper_arm_joint, hand_joint = Point('G'), Point('L'), Point('U'), Point('H')"
   ]
  },
  {
   "source": [
    "In order to relate two different points, the lengths need to be specified."
   ],
   "cell_type": "markdown",
   "metadata": {}
  },
  {
   "cell_type": "code",
   "execution_count": 12,
   "metadata": {},
   "outputs": [],
   "source": [
    "lower_arm_length, upper_arm_length, hand_length, finger1_length, finger2_length = symbols('l_L, l_U, l_H, l_F1, l_F2')"
   ]
  },
  {
   "source": [
    "As the ground joint is the base point, which is fixed on the inertial frame and has zero velocity, all the other points will be defined with respect to this point. For instance, the lower arm joint is defined with a vector that is the length from the ground joint to the lower arm joint (`lower_arm_length` variable) in the direction of the lower leg `y'` unit vector. For this, the reference point and vector will be inputed in `set_pos` method."
   ],
   "cell_type": "markdown",
   "metadata": {}
  },
  {
   "cell_type": "code",
   "execution_count": 15,
   "metadata": {},
   "outputs": [
    {
     "output_type": "execute_result",
     "data": {
      "text/plain": [
       "l_L"
      ],
      "text/latex": "$\\displaystyle l_{L}$"
     },
     "metadata": {},
     "execution_count": 15
    }
   ],
   "source": [
    "lower_arm_joint.set_pos(ground_joint, lower_arm_length * lower_arm_frame.y)\n",
    "upper_arm_joint.set_pos(ground_joint, upper_arm_length * upper_arm_frame.y)\n",
    "hand_joint.set_pos(ground_joint, upper_arm_length * upper_arm_frame.y)\n"
   ]
  },
  {
   "cell_type": "code",
   "execution_count": null,
   "metadata": {},
   "outputs": [],
   "source": []
  }
 ]
}