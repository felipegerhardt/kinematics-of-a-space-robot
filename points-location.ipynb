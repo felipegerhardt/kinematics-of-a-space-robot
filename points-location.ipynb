{
 "metadata": {
  "language_info": {
   "codemirror_mode": {
    "name": "ipython",
    "version": 3
   },
   "file_extension": ".py",
   "mimetype": "text/x-python",
   "name": "python",
   "nbconvert_exporter": "python",
   "pygments_lexer": "ipython3",
   "version": "3.7.3-final"
  },
  "orig_nbformat": 2,
  "kernelspec": {
   "name": "python3",
   "display_name": "Python 3",
   "language": "python"
  }
 },
 "nbformat": 4,
 "nbformat_minor": 2,
 "cells": [
  {
   "source": [
    "## Points and locations\n",
    "The equations of motion of the system requires the mass center of each rigid body. First, we define the points that locate the 4 joints of the system, i.e.:\n",
    "- Ground joint;\n",
    "- Lower arm joint;\n",
    "- Upper arm joint;\n",
    "- Hand joint."
   ],
   "cell_type": "markdown",
   "metadata": {}
  },
  {
   "cell_type": "code",
   "execution_count": 52,
   "metadata": {},
   "outputs": [],
   "source": [
    "from reference_frame_solution import * # Importing the output of reference-frame file\n",
    "from sympy.physics.mechanics import Point, dynamicsymbols\n",
    "from sympy import symbols, simplify\n",
    "from IPython.display import Image"
   ]
  },
  {
   "cell_type": "code",
   "execution_count": 3,
   "metadata": {},
   "outputs": [],
   "source": [
    "ground_joint, lower_arm_joint, upper_arm_joint, hand_joint = Point('G'), Point('L'), Point('U'), Point('H')"
   ]
  },
  {
   "source": [
    "In order to relate two different points, the lengths need to be specified."
   ],
   "cell_type": "markdown",
   "metadata": {}
  },
  {
   "cell_type": "code",
   "execution_count": 4,
   "metadata": {},
   "outputs": [],
   "source": [
    "lower_arm_length, upper_arm_length, hand_length, finger1_length, finger2_length = symbols('l_L, l_U, l_H, l_F1, l_F2')"
   ]
  },
  {
   "source": [
    "As the ground joint is the base point, which is fixed on the inertial frame and has zero velocity, all the other points will be defined with respect to this point. For instance, the lower arm joint is defined with a vector that is the length from the ground joint to the lower arm joint (`lower_arm_length` variable) in the direction of the lower leg `y'` unit vector (axis). For this, the reference point and vector will be inputed in `Point.set_pos` method."
   ],
   "cell_type": "markdown",
   "metadata": {}
  },
  {
   "cell_type": "code",
   "execution_count": null,
   "metadata": {},
   "outputs": [],
   "source": []
  },
  {
   "cell_type": "code",
   "execution_count": 43,
   "metadata": {},
   "outputs": [],
   "source": [
    "lower_arm_joint.set_pos(ground_joint, lower_arm_length * lower_arm_frame.y)\n",
    "upper_arm_joint.set_pos(lower_arm_joint, upper_arm_length * upper_arm_frame.y)\n",
    "hand_joint.set_pos(upper_arm_joint, hand_length * hand_frame.y)"
   ]
  },
  {
   "source": [
    "The points positions can be expressed with the unit vectors of the reference frames, as seen below.\n",
    "\n",
    "Note that `l` is the unit vector in the axis direction (length) of the lower arm, `u` is the unit vector in the axis direction of the upper arm and `h` is the unit vector in the axis direction of the hand."
   ],
   "cell_type": "markdown",
   "metadata": {}
  },
  {
   "cell_type": "code",
   "execution_count": 47,
   "metadata": {},
   "outputs": [
    {
     "output_type": "execute_result",
     "data": {
      "text/plain": [
       "l_L*L.y"
      ],
      "text/latex": "$\\displaystyle l_{L}\\mathbf{\\hat{l}_y}$"
     },
     "metadata": {},
     "execution_count": 47
    }
   ],
   "source": [
    "lower_arm_joint.pos_from(ground_joint) # Lower arm joint"
   ]
  },
  {
   "cell_type": "code",
   "execution_count": 48,
   "metadata": {},
   "outputs": [
    {
     "output_type": "execute_result",
     "data": {
      "text/plain": [
       "l_L*L.y + l_U*U.y"
      ],
      "text/latex": "$\\displaystyle l_{U}\\mathbf{\\hat{u}_y} + l_{L}\\mathbf{\\hat{l}_y}$"
     },
     "metadata": {},
     "execution_count": 48
    }
   ],
   "source": [
    "upper_arm_joint.pos_from(ground_joint) # Upper arm joint"
   ]
  },
  {
   "cell_type": "code",
   "execution_count": 49,
   "metadata": {},
   "outputs": [
    {
     "output_type": "execute_result",
     "data": {
      "text/plain": [
       "l_L*L.y + l_U*U.y + l_H*H.y"
      ],
      "text/latex": "$\\displaystyle l_{H}\\mathbf{\\hat{h}_y} + l_{U}\\mathbf{\\hat{u}_y} + l_{L}\\mathbf{\\hat{l}_y}$"
     },
     "metadata": {},
     "execution_count": 49
    }
   ],
   "source": [
    "hand_joint.pos_from(ground_joint) # Hand joint"
   ]
  },
  {
   "source": [
    "The points position can be expressed with respect to another point with `Point.pos_from` method:\n",
    "\n",
    "Note: Remember that the unit vector `x`, represented by `ix`, points to your LHS, while the `y` unit vector points upwards."
   ],
   "cell_type": "markdown",
   "metadata": {}
  },
  {
   "cell_type": "code",
   "execution_count": 54,
   "metadata": {},
   "outputs": [
    {
     "output_type": "error",
     "ename": "AttributeError",
     "evalue": "'Image' object has no attribute 'resize'",
     "traceback": [
      "\u001b[1;31m---------------------------------------------------------------------------\u001b[0m",
      "\u001b[1;31mAttributeError\u001b[0m                            Traceback (most recent call last)",
      "\u001b[1;32m<ipython-input-54-1e76351249c8>\u001b[0m in \u001b[0;36m<module>\u001b[1;34m\u001b[0m\n\u001b[1;32m----> 1\u001b[1;33m \u001b[0mImage\u001b[0m\u001b[1;33m(\u001b[0m\u001b[1;34m'https://user-images.githubusercontent.com/60149913/105637192-83fa3f00-5e42-11eb-82cb-71fd7e484ee6.png'\u001b[0m\u001b[1;33m)\u001b[0m\u001b[1;33m.\u001b[0m\u001b[0mresize\u001b[0m\u001b[1;33m(\u001b[0m\u001b[1;33m(\u001b[0m\u001b[1;36m400\u001b[0m\u001b[1;33m,\u001b[0m\u001b[1;36m400\u001b[0m\u001b[1;33m)\u001b[0m\u001b[1;33m)\u001b[0m\u001b[1;33m\u001b[0m\u001b[1;33m\u001b[0m\u001b[0m\n\u001b[0m",
      "\u001b[1;31mAttributeError\u001b[0m: 'Image' object has no attribute 'resize'"
     ]
    }
   ],
   "source": [
    "Image('https://user-images.githubusercontent.com/60149913/105637192-83fa3f00-5e42-11eb-82cb-71fd7e484ee6.png').resize((400,400))"
   ]
  },
  {
   "cell_type": "code",
   "execution_count": 51,
   "metadata": {},
   "outputs": [
    {
     "output_type": "execute_result",
     "data": {
      "text/plain": [
       "(-l_H*sin(lambda1 + lambda2 + lambda3) - l_L*sin(lambda1) - l_U*sin(lambda1 + lambda2))*I.x + (l_H*cos(lambda1 + lambda2 + lambda3) + l_L*cos(lambda1) + l_U*cos(lambda1 + lambda2))*I.y"
      ],
      "text/latex": "$\\displaystyle (- l_{H} \\operatorname{sin}\\left(\\lambda_{1} + \\lambda_{2} + \\lambda_{3}\\right) - l_{L} \\operatorname{sin}\\left(\\lambda_{1}\\right) - l_{U} \\operatorname{sin}\\left(\\lambda_{1} + \\lambda_{2}\\right))\\mathbf{\\hat{i}_x} + (l_{H} \\operatorname{cos}\\left(\\lambda_{1} + \\lambda_{2} + \\lambda_{3}\\right) + l_{L} \\operatorname{cos}\\left(\\lambda_{1}\\right) + l_{U} \\operatorname{cos}\\left(\\lambda_{1} + \\lambda_{2}\\right))\\mathbf{\\hat{i}_y}$"
     },
     "metadata": {},
     "execution_count": 51
    }
   ],
   "source": [
    "hand_joint.pos_from(ground_joint).express(inertial_frame).simplify()"
   ]
  },
  {
   "source": [],
   "cell_type": "markdown",
   "metadata": {}
  }
 ]
}