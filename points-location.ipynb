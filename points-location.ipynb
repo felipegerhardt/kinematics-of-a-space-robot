{
 "metadata": {
  "language_info": {
   "codemirror_mode": {
    "name": "ipython",
    "version": 3
   },
   "file_extension": ".py",
   "mimetype": "text/x-python",
   "name": "python",
   "nbconvert_exporter": "python",
   "pygments_lexer": "ipython3",
   "version": "3.7.3-final"
  },
  "orig_nbformat": 2,
  "kernelspec": {
   "name": "python3",
   "display_name": "Python 3",
   "language": "python"
  }
 },
 "nbformat": 4,
 "nbformat_minor": 2,
 "cells": [
  {
   "source": [
    "## Points and locations\n",
    "The equations of motion of the system requires the mass center of each rigid body. First, we define the points that locate the 4 joints of the system, i.e.:\n",
    "- Ground joint;\n",
    "- Lower arm joint;\n",
    "- Upper arm joint;\n",
    "- Hand joint."
   ],
   "cell_type": "markdown",
   "metadata": {}
  },
  {
   "cell_type": "code",
   "execution_count": 18,
   "metadata": {},
   "outputs": [],
   "source": [
    "from reference_frame_solution import * # Importing the output of reference-frame file\n",
    "from sympy.physics.mechanics import Point"
   ]
  },
  {
   "cell_type": "code",
   "execution_count": 21,
   "metadata": {},
   "outputs": [],
   "source": [
    "ground_joint, lower_arm_joint, upper_arm_joint, hand_joint = Point('G'), Point('L'), Point('U'), Point('H')"
   ]
  },
  {
   "source": [
    "As the ground joint is the base point, which is fixed on the inertial frame, all the other points will be defined with respect to the ankle:"
   ],
   "cell_type": "markdown",
   "metadata": {}
  }
 ]
}