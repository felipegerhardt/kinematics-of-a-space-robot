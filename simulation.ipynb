{
 "metadata": {
  "language_info": {
   "codemirror_mode": {
    "name": "ipython",
    "version": 3
   },
   "file_extension": ".py",
   "mimetype": "text/x-python",
   "name": "python",
   "nbconvert_exporter": "python",
   "pygments_lexer": "ipython3",
   "version": "3.7.3-final"
  },
  "orig_nbformat": 2,
  "kernelspec": {
   "name": "python3",
   "display_name": "Python 3",
   "language": "python"
  }
 },
 "nbformat": 4,
 "nbformat_minor": 2,
 "cells": [
  {
   "source": [
    "### Simulation\n",
    "\n",
    "The previous files hold the symbolic equations of motion that we need to represent the system. Now, we must transform them into Python functions to be able to use in numerical integration."
   ],
   "cell_type": "markdown",
   "metadata": {}
  },
  {
   "cell_type": "code",
   "execution_count": 2,
   "metadata": {},
   "outputs": [],
   "source": [
    "# Loading previous solutions\n",
    "from equations_of_motion_solution import *\n",
    "from sympy.physics.vector import vlatex\n",
    "from sympy import init_printing\n",
    "from IPython.display import Image\n",
    "init_printing(use_latex='mathjax', pretty_print=False)"
   ]
  },
  {
   "cell_type": "code",
   "execution_count": 2,
   "metadata": {},
   "outputs": [],
   "source": [
    "# Import NumPy functions to setp the numerical values and integrate the equations of motion\n",
    "from numpy import deg2rad, rad2deg, array, zeros, linspace\n",
    "\n",
    "# Import ODE numerical integration routine from SciPy\n",
    "from scipy.integrate import odeint\n",
    "\n",
    "# Import PyDy's ODE function generation to generate the symbolic equations into numerical function\n",
    "from pydy.codegen.ode_function_generators import generate_ode_function\n",
    "\n",
    "# Import a few functions from Matplotlib.PyPlot\n",
    "from matplotlib.pyplot import plot, legend, xlabel, ylabel, rcParams\n",
    "%matplotlib inline"
   ]
  },
  {
   "source": [
    "#### Variables\n",
    "Now, we will need to gather the variables, in the equations of motions into lists, i.e. constants, coordinates, speeds and specific inputs."
   ],
   "cell_type": "markdown",
   "metadata": {}
  },
  {
   "source": [
    "#### Constants\n",
    "\n",
    "There are 21 constants in the equations:"
   ],
   "cell_type": "markdown",
   "metadata": {}
  },
  {
   "cell_type": "code",
   "execution_count": 3,
   "metadata": {},
   "outputs": [
    {
     "output_type": "execute_result",
     "data": {
      "text/plain": [
       "[l_L, d_L, m_L, I_Lz, l_U, d_U, m_U, I_Uz, l_H, d_H, m_H, I_Hz, l_F1, d_F1, m_F1, I_F1z, l_F2, d_F2, m_F2, I_F2z, g]"
      ],
      "text/latex": "$\\displaystyle \\left[ l_{L}, \\  d_{L}, \\  m_{L}, \\  I_{Lz}, \\  l_{U}, \\  d_{U}, \\  m_{U}, \\  I_{Uz}, \\  l_{H}, \\  d_{H}, \\  m_{H}, \\  I_{Hz}, \\  l_{F1}, \\  d_{F1}, \\  m_{F1}, \\  I_{F1z}, \\  l_{F2}, \\  d_{F2}, \\  m_{F2}, \\  I_{F2z}, \\  g\\right]$"
     },
     "metadata": {},
     "execution_count": 3
    }
   ],
   "source": [
    "constants = [lower_arm_length,\n",
    "             lower_arm_com_length,\n",
    "             lower_arm_mass,\n",
    "             lower_arm_inertia,\n",
    "             upper_arm_length,\n",
    "             upper_arm_com_length,\n",
    "             upper_arm_mass,\n",
    "             upper_arm_inertia,\n",
    "             hand_length,\n",
    "             hand_com_length,\n",
    "             hand_mass,            \n",
    "             hand_inertia,\n",
    "             finger1_length,\n",
    "             finger1_com_length,\n",
    "             finger1_mass,\n",
    "             finger1_inertia,\n",
    "             finger2_length,\n",
    "             finger2_com_length,\n",
    "             finger2_mass,\n",
    "             finger2_inertia,           \n",
    "             g]\n",
    "constants"
   ]
  },
  {
   "source": [
    "#### Time varying variables\n",
    "\n",
    "The states are dependant of the coordinates and speeds. There are 15 varying specified inputs to the system"
   ],
   "cell_type": "markdown",
   "metadata": {}
  },
  {
   "cell_type": "code",
   "execution_count": 7,
   "metadata": {},
   "outputs": [],
   "source": [
    "coordinates = [lambda1, lambda2, lambda3, lambda4, lambda5]\n",
    "\n",
    "speeds = [omega1, omega2, omega3, omega4, omega5]\n",
    "\n",
    "specifieds = [ground_joint_torque, lower_arm_joint_torque, upper_arm_joint_torque, hand_joint_torque, finger1_joint_torque, finger2_joint_torque]"
   ]
  },
  {
   "source": [
    "#### Generating the ODE function\n",
    "\n",
    "The ordinary differential equation integrator scipy.integrate.odeint require a function that numerically evaluates the right hand side of the coupled first order ordinary differential equations. In `mass_matrix` and `forcing_vector` are the symbolic form of the constants and variables. `odeint` function requires the right hand side function, the initial conditions and a time vector. "
   ],
   "cell_type": "markdown",
   "metadata": {}
  },
  {
   "cell_type": "code",
   "execution_count": 11,
   "metadata": {},
   "outputs": [],
   "source": [
    "# Passing the RHS to the ODE function generator\n",
    "right_hand_side = generate_ode_function(forcing_vector, coordinates, speeds, constants, mass_matrix=mass_matrix, specifieds=specifieds)\n",
    "\n",
    "# Setting the speeds and coordinates initial conditions \n",
    "x0 = zeros(10)\n",
    "\n",
    "# Speeds initial conditions are zero, while the lower arm, upper arm and hand generalized coordinates are on an 20° angle. The fingers are on a 20° angle with respect to the hand axis.\n",
    "x0[5:8] = deg2rad(20)\n",
    "x0[8] = deg2rad(-20) # Bottom finger\n",
    "x0[9] = deg2rad(20) # Top finger"
   ]
  },
  {
   "source": [
    "Now, we need to specify the numerical value for all constants. To work with realistic values, a 3D CAD geometry was design to model the robot arm. The material of the 4 part robot arm is made structural steel."
   ],
   "cell_type": "markdown",
   "metadata": {}
  },
  {
   "cell_type": "code",
   "execution_count": 3,
   "metadata": {},
   "outputs": [
    {
     "output_type": "execute_result",
     "data": {
      "image/png": "[encoded data removed]",
      "text/plain": [
       "<IPython.core.display.Image object>"
      ]
     },
     "metadata": {
      "image/png": {
       "width": 516,
       "height": 200
      }
     },
     "execution_count": 3
    }
   ],
   "source": [
    "Image('https://user-images.githubusercontent.com/60149913/106359945-340cf380-62ec-11eb-8b14-1b2dfe42aa22.png', width=516, height=200)"
   ]
  },
  {
   "cell_type": "code",
   "execution_count": null,
   "metadata": {},
   "outputs": [],
   "source": [
    "Image('https://user-images.githubusercontent.com/60149913/106360132-2e63dd80-62ed-11eb-8d96-7483cf61319d.png', width=332, height=150)\n",
    "Image('https://user-images.githubusercontent.com/60149913/106360135-302da100-62ed-11eb-8fef-fde1e60e99a4.png', width=332, height=150)\n",
    "Image('https://user-images.githubusercontent.com/60149913/106360139-315ece00-62ed-11eb-8c7f-9cdb1302a96c.png', width=332, height=150)\n",
    "Image('https://user-images.githubusercontent.com/60149913/106360140-31f76480-62ed-11eb-9abe-3f68f702a072.png', width=332, height=150)"
   ]
  },
  {
   "cell_type": "code",
   "execution_count": null,
   "metadata": {},
   "outputs": [],
   "source": []
  }
 ]
}