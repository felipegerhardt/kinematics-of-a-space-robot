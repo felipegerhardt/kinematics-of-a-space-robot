{
 "metadata": {
  "language_info": {
   "codemirror_mode": {
    "name": "ipython",
    "version": 3
   },
   "file_extension": ".py",
   "mimetype": "text/x-python",
   "name": "python",
   "nbconvert_exporter": "python",
   "pygments_lexer": "ipython3",
   "version": "3.7.3-final"
  },
  "orig_nbformat": 2,
  "kernelspec": {
   "name": "python3",
   "display_name": "Python 3",
   "language": "python"
  }
 },
 "nbformat": 4,
 "nbformat_minor": 2,
 "cells": [
  {
   "source": [
    "### Animation\n",
    "\n",
    "For the 3D visualization of the movement, we use `pydy-viz` package."
   ],
   "cell_type": "markdown",
   "metadata": {}
  },
  {
   "cell_type": "code",
   "execution_count": 1,
   "metadata": {
    "tags": []
   },
   "outputs": [
    {
     "output_type": "stream",
     "name": "stdout",
     "text": [
      "Reference frame file loaded\n",
      "Points and locations file loaded\n",
      "Inertial properties file loaded\n",
      "Equations of motion file loaded\n",
      "Simulation (g: 9.81 m/s², torques comb.: 1) completed\n",
      "Simulation (g: 9.81 m/s², torques comb.: 2) completed\n",
      "Simulation (g: 9.81 m/s², torques comb.: 3) completed\n",
      "Simulation (g: 3.711 m/s², torques comb.: 1) completed\n",
      "Simulation (g: 3.711 m/s², torques comb.: 2) completed\n",
      "Simulation (g: 3.711 m/s², torques comb.: 3) completed\n",
      "Simulation (g: 1.62 m/s², torques comb.: 1) completed\n",
      "Simulation (g: 1.62 m/s², torques comb.: 2) completed\n",
      "Simulation (g: 1.62 m/s², torques comb.: 3) completed\n"
     ]
    }
   ],
   "source": [
    "from simulation_solution import *\n",
    "import pydy.viz\n",
    "from pydy.viz.shapes import Cylinder, Sphere\n",
    "from pydy.viz.visualization_frame import VisualizationFrame\n",
    "from pydy.viz.scene import Scene"
   ]
  },
  {
   "source": [
    "The joints will be represented with `Sphere` shape whereas the rigid bodies will be a `Cylinder`. A VisualizationFrame object attaches a shape to a reference frame and a point. Fix the visualization frames to the inertial frame."
   ],
   "cell_type": "markdown",
   "metadata": {}
  },
  {
   "cell_type": "code",
   "execution_count": 2,
   "metadata": {},
   "outputs": [],
   "source": [
    "# Joints associated with Sphere objects with 0.1 radius\n",
    "ground_joint_shape = Sphere(color='black', radius=0.1) \n",
    "lower_arm_joint_shape = Sphere(color='black', radius=0.1)\n",
    "upper_arm_joint_shape = Sphere(color='black', radius=0.1)\n",
    "hand_joint_shape = Sphere(color='black', radius=0.1)\n",
    "\n",
    "# Create a visualization frame \n",
    "grund_viz_frame = VisualizationFrame(inertial_frame, ground_joint, ground_joint_shape)\n",
    "lower_arm_viz_frame = VisualizationFrame(inertial_frame, lower_arm_joint, lower_arm_joint_shape)\n",
    "upper_arm_viz_frame = VisualizationFrame(inertial_frame, upper_arm_joint, upper_arm_joint_shape)\n",
    "hand_viz_frame = VisualizationFrame(inertial_frame, hand_joint, hand_joint_shape)"
   ]
  },
  {
   "source": [
    "The rigid bodies must be associated with the geometric center. First, create the `Point` objects to hold the value."
   ],
   "cell_type": "markdown",
   "metadata": {}
  },
  {
   "cell_type": "code",
   "execution_count": 3,
   "metadata": {},
   "outputs": [],
   "source": [
    "# Creating Point objects\n",
    "lower_arm_center = Point('l_c')\n",
    "upper_arm_center = Point('u_c')\n",
    "hand_center = Point('t_c')\n",
    "finger1_center = Point('t_f1') \n",
    "finger2_center = Point('t_f2')\n",
    "\n",
    "# Setting geometrical positions for the bodies\n",
    "lower_arm_center.set_pos(ground_joint, lower_arm_length / 2 * lower_arm_frame.y)\n",
    "upper_arm_center.set_pos(lower_arm_joint, upper_arm_length / 2 * upper_arm_frame.y)\n",
    "hand_center.set_pos(upper_arm_joint, hand_length / 2 * hand_frame.y)\n",
    "finger1_center.set_pos(hand_joint, finger1_length * finger1_frame.y)\n",
    "finger2_center.set_pos(hand_joint, finger2_length * finger2_frame.y)\n",
    "\n",
    "# Create a dictionary to get easy access.\n",
    "constants_dict = dict(zip(constants, display_constants))"
   ]
  },
  {
   "source": [
    "Now create the `Cylinder` objects to represent the rigid bodies."
   ],
   "cell_type": "markdown",
   "metadata": {}
  },
  {
   "cell_type": "code",
   "execution_count": 4,
   "metadata": {},
   "outputs": [],
   "source": [
    "# Lower arm shape and visualization frame\n",
    "lower_arm_shape = Cylinder(radius=0.08, length=constants_dict[lower_arm_length], color='blue')\n",
    "lower_arm_viz_frame = VisualizationFrame('Lower Arm', lower_arm_frame, lower_arm_center, lower_arm_shape)\n",
    "\n",
    "# Upper arm shape and visualization frame\n",
    "upper_arm_shape = Cylinder(radius=0.08, length=constants_dict[upper_arm_length], color='red')\n",
    "upper_arm_viz_frame = VisualizationFrame('Upper Arm', upper_arm_frame, upper_arm_center, upper_arm_shape)\n",
    "\n",
    "# Hand shape and visualization frame\n",
    "hand_shape = Cylinder(radius=0.08, length=constants_dict[hand_length], color='green')\n",
    "hand_viz_frame = VisualizationFrame('Hand', hand_frame, hand_center, hand_shape)\n",
    "\n",
    "# Finger 1 shape and visualization frame\n",
    "finger1_shape = Cylinder(radius=0.08, length=constants_dict[finger1_length], color='black')\n",
    "finger1_viz_frame = VisualizationFrame('Finger 1', finger1_frame, finger1_center, finger1_shape)\n",
    "\n",
    "# Finger 2 and visualization frame\n",
    "finger2_shape = Cylinder(radius=0.08, length=constants_dict[finger2_length], color='black')\n",
    "finger2_viz_frame = VisualizationFrame('Finger 2', finger2_frame, finger2_center, finger2_shape)"
   ]
  },
  {
   "source": [
    "Create the scence associating the frame and fixed point."
   ],
   "cell_type": "markdown",
   "metadata": {}
  },
  {
   "cell_type": "code",
   "execution_count": 5,
   "metadata": {},
   "outputs": [],
   "source": [
    "scene = Scene(inertial_frame, ground_joint)"
   ]
  },
  {
   "cell_type": "code",
   "execution_count": 6,
   "metadata": {},
   "outputs": [],
   "source": [
    "# Append the frames to be visualized in a list.\n",
    "scene.visualization_frames = [grund_viz_frame,\n",
    "                              lower_arm_viz_frame, \n",
    "                              upper_arm_viz_frame, \n",
    "                              hand_viz_frame, \n",
    "                              lower_arm_viz_frame,\n",
    "                              upper_arm_viz_frame,\n",
    "                              hand_viz_frame,\n",
    "                              finger1_viz_frame,\n",
    "                              finger2_viz_frame]"
   ]
  },
  {
   "source": [
    "Input the scene with the list of symbolic states, the list of constants, as well as the numerical values of each."
   ],
   "cell_type": "markdown",
   "metadata": {}
  },
  {
   "cell_type": "code",
   "execution_count": 15,
   "metadata": {},
   "outputs": [],
   "source": [
    "scene.states_symbols = coordinates + speeds\n",
    "scene.constants = display_constants\n",
    "scene.states_trajectories = solutions[0] # This solution refers to the simulation with earth's gravity and torque combination 1"
   ]
  },
  {
   "source": [
    "The following command display the simulation in pydy.viz environment. "
   ],
   "cell_type": "markdown",
   "metadata": {}
  },
  {
   "cell_type": "code",
   "execution_count": null,
   "metadata": {},
   "outputs": [],
   "source": [
    "scene.display()"
   ]
  },
  {
   "source": [
    "The animations will be displayed as GIFs, in the same order as the plots in simulation notebook\n",
    "\n",
    "\n",
    "<img src=\"https://user-images.githubusercontent.com/60149913/110048660-a6775600-7d26-11eb-9d73-f2f9f2538772.gif\" width=\"325\" height=\"165.5\" /> | <img src=\"https://user-images.githubusercontent.com/60149913/110049094-85633500-7d27-11eb-8dec-fdef9b37b5b4.gif\" width=\"325\" height=\"165.5\" /> | <img src=\"https://user-images.githubusercontent.com/60149913/110049099-87c58f00-7d27-11eb-93b7-28e6e5f5aa58.gif\" width=\"325\" height=\"165.5\" />\n",
    "----------------------------------------------\n",
    "<img src=\"https://user-images.githubusercontent.com/60149913/110049131-9b70f580-7d27-11eb-8c31-b5bf02f21c39.gif\" width=\"325\" height=\"165.5\" /> | <img src=\"https://user-images.githubusercontent.com/60149913/110049133-9e6be600-7d27-11eb-8c18-e6b7789fd861.gif\" width=\"325\" height=\"165.5\" /> | <img src=\"https://user-images.githubusercontent.com/60149913/110049136-a035a980-7d27-11eb-9e0d-425a395784b9.gif\" width=\"325\" height=\"165.5\" />\n",
    "----------------------------------------------\n",
    "<img src=\"https://user-images.githubusercontent.com/60149913/110049217-cfe4b180-7d27-11eb-84c6-a5f50490d085.gif\" width=\"325\" height=\"165.5\" /> | <img src=\"https://user-images.githubusercontent.com/60149913/110049224-d2470b80-7d27-11eb-948e-244babc1a9fd.gif\" width=\"325\" height=\"165.5\" /> | <img src=\"https://user-images.githubusercontent.com/60149913/110049231-d4a96580-7d27-11eb-97fd-839d5695fa4e.gif\" width=\"325\" height=\"165.5\" />\n",
    "----------------------------------------------"
   ],
   "cell_type": "markdown",
   "metadata": {}
  }
 ]
}