{
 "metadata": {
  "language_info": {
   "codemirror_mode": {
    "name": "ipython",
    "version": 3
   },
   "file_extension": ".py",
   "mimetype": "text/x-python",
   "name": "python",
   "nbconvert_exporter": "python",
   "pygments_lexer": "ipython3",
   "version": "3.7.3-final"
  },
  "orig_nbformat": 2,
  "kernelspec": {
   "name": "python3",
   "display_name": "Python 3",
   "language": "python"
  }
 },
 "nbformat": 4,
 "nbformat_minor": 2,
 "cells": [
  {
   "source": [
    "### Animation\n",
    "\n",
    "For the 3D visualization of the movement, we use `pydy-viz` package."
   ],
   "cell_type": "markdown",
   "metadata": {}
  },
  {
   "cell_type": "code",
   "execution_count": 37,
   "metadata": {
    "tags": []
   },
   "outputs": [],
   "source": [
    "from simulation_solution import *\n",
    "import pydy.viz\n",
    "from pydy.viz.shapes import Cylinder, Sphere\n",
    "from pydy.viz.visualization_frame import VisualizationFrame\n",
    "from pydy.viz.scene import Scene"
   ]
  },
  {
   "source": [
    "The joints will be represented with `Sphere` shape whereas the rigid bodies will be a `Cylinder`. A VisualizationFrame object attaches a shape to a reference frame and a point. Fix the visualization frames to the inertial frame."
   ],
   "cell_type": "markdown",
   "metadata": {}
  },
  {
   "cell_type": "code",
   "execution_count": 38,
   "metadata": {},
   "outputs": [],
   "source": [
    "# Joints associated with Sphere objects with 0.1 radius\n",
    "ground_joint_shape = Sphere(color='black', radius=0.1) \n",
    "lower_arm_joint_shape = Sphere(color='black', radius=0.1)\n",
    "upper_arm_joint_shape = Sphere(color='black', radius=0.1)\n",
    "hand_joint_shape = Sphere(color='black', radius=0.1)\n",
    "\n",
    "# Create a visualization frame \n",
    "grund_viz_frame = VisualizationFrame(inertial_frame, ground_joint, ground_joint_shape)\n",
    "lower_arm_viz_frame = VisualizationFrame(inertial_frame, lower_arm_joint, lower_arm_joint_shape)\n",
    "upper_arm_viz_frame = VisualizationFrame(inertial_frame, upper_arm_joint, upper_arm_joint_shape)\n",
    "hand_viz_frame = VisualizationFrame(inertial_frame, hand_joint, hand_joint_shape)"
   ]
  },
  {
   "source": [
    "The rigid bodies must be associated with the geometric center. First, create the `Point` objects to hold the value."
   ],
   "cell_type": "markdown",
   "metadata": {}
  },
  {
   "cell_type": "code",
   "execution_count": 39,
   "metadata": {},
   "outputs": [],
   "source": [
    "# Creating Point objects\n",
    "lower_arm_center = Point('l_c')\n",
    "upper_arm_center = Point('u_c')\n",
    "hand_center = Point('t_c')\n",
    "finger1_center = Point('t_f1') \n",
    "finger2_center = Point('t_f2')\n",
    "\n",
    "# Setting geometrical positions for the bodies\n",
    "lower_arm_center.set_pos(ground_joint, lower_arm_length / 2 * lower_arm_frame.y)\n",
    "upper_arm_center.set_pos(lower_arm_joint, upper_arm_length / 2 * upper_arm_frame.y)\n",
    "hand_center.set_pos(upper_arm_joint, hand_length / 2 * hand_frame.y)\n",
    "finger1_center.set_pos(hand_joint, finger1_length * finger1_frame.y)\n",
    "finger2_center.set_pos(hand_joint, finger2_length * finger2_frame.y)\n",
    "\n",
    "# Create a dictionary to get easy access.\n",
    "constants_dict = dict(zip(constants, display_constants))"
   ]
  },
  {
   "source": [
    "Now create the `Cylinder` objects to represent the rigid bodies."
   ],
   "cell_type": "markdown",
   "metadata": {}
  },
  {
   "cell_type": "code",
   "execution_count": 40,
   "metadata": {},
   "outputs": [],
   "source": [
    "# Lower arm shape and visualization frame\n",
    "lower_arm_shape = Cylinder(radius=0.08, length=constants_dict[lower_arm_length], color='blue')\n",
    "lower_arm_viz_frame = VisualizationFrame('Lower Arm', lower_arm_frame, lower_arm_center, lower_arm_shape)\n",
    "\n",
    "# Upper arm shape and visualization frame\n",
    "upper_arm_shape = Cylinder(radius=0.08, length=constants_dict[upper_arm_length], color='red')\n",
    "upper_arm_viz_frame = VisualizationFrame('Upper Arm', upper_arm_frame, upper_arm_center, upper_arm_shape)\n",
    "\n",
    "# Hand shape and visualization frame\n",
    "hand_shape = Cylinder(radius=0.08, length=constants_dict[hand_length], color='green')\n",
    "hand_viz_frame = VisualizationFrame('Hand', hand_frame, hand_center, hand_shape)\n",
    "\n",
    "# Finger 1 shape and visualization frame\n",
    "finger1_shape = Cylinder(radius=0.08, length=constants_dict[finger1_length], color='black')\n",
    "finger1_viz_frame = VisualizationFrame('Finger 1', finger1_frame, finger1_center, finger1_shape)\n",
    "\n",
    "# Finger 2 and visualization frame\n",
    "finger2_shape = Cylinder(radius=0.08, length=constants_dict[finger2_length], color='black')\n",
    "finger2_viz_frame = VisualizationFrame('Finger 2', finger2_frame, finger2_center, finger2_shape)"
   ]
  },
  {
   "source": [
    "Create the scence associating the frame and fixed point."
   ],
   "cell_type": "markdown",
   "metadata": {}
  },
  {
   "cell_type": "code",
   "execution_count": 41,
   "metadata": {},
   "outputs": [],
   "source": [
    "scene = Scene(inertial_frame, ground_joint)"
   ]
  },
  {
   "cell_type": "code",
   "execution_count": 42,
   "metadata": {},
   "outputs": [],
   "source": [
    "# Append the frames to be visualized in a list.\n",
    "scene.visualization_frames = [grund_viz_frame,\n",
    "                              lower_arm_viz_frame, \n",
    "                              upper_arm_viz_frame, \n",
    "                              hand_viz_frame, \n",
    "                              lower_arm_viz_frame,\n",
    "                              upper_arm_viz_frame,\n",
    "                              hand_viz_frame,\n",
    "                              finger1_viz_frame,\n",
    "                              finger2_viz_frame]"
   ]
  },
  {
   "source": [
    "Input the scene with the list of symbolic states, the list of constants, as well as the numerical values of each."
   ],
   "cell_type": "markdown",
   "metadata": {}
  },
  {
   "cell_type": "code",
   "execution_count": 57,
   "metadata": {},
   "outputs": [],
   "source": [
    "scene.states_symbols = coordinates + speeds\n",
    "scene.constants = display_constants\n",
    "scene.states_trajectories = solutions[4]"
   ]
  },
  {
   "cell_type": "code",
   "execution_count": 58,
   "metadata": {},
   "outputs": [
    {
     "output_type": "error",
     "ename": "DistutilsFileError",
     "evalue": "could not create 'c:\\Users\\Felipe\\Desktop\\Robot space arm project\\kinematics-of-a-space-robot\\pydy-resources\\pydy-resources\\pydy-resources\\pydy-resources\\pydy-resources\\pydy-resources\\pydy-resources\\pydy-resources\\pydy-resources\\pydy-resources\\fonts\\glyphicons-halflings-regular.eot': No such file or directory",
     "traceback": [
      "\u001b[1;31m---------------------------------------------------------------------------\u001b[0m",
      "\u001b[1;31mFileNotFoundError\u001b[0m                         Traceback (most recent call last)",
      "\u001b[1;32mC:\\ProgramData\\Anaconda3\\lib\\distutils\\file_util.py\u001b[0m in \u001b[0;36m_copy_file_contents\u001b[1;34m(src, dst, buffer_size)\u001b[0m\n\u001b[0;32m     40\u001b[0m         \u001b[1;32mtry\u001b[0m\u001b[1;33m:\u001b[0m\u001b[1;33m\u001b[0m\u001b[1;33m\u001b[0m\u001b[0m\n\u001b[1;32m---> 41\u001b[1;33m             \u001b[0mfdst\u001b[0m \u001b[1;33m=\u001b[0m \u001b[0mopen\u001b[0m\u001b[1;33m(\u001b[0m\u001b[0mdst\u001b[0m\u001b[1;33m,\u001b[0m \u001b[1;34m'wb'\u001b[0m\u001b[1;33m)\u001b[0m\u001b[1;33m\u001b[0m\u001b[1;33m\u001b[0m\u001b[0m\n\u001b[0m\u001b[0;32m     42\u001b[0m         \u001b[1;32mexcept\u001b[0m \u001b[0mOSError\u001b[0m \u001b[1;32mas\u001b[0m \u001b[0me\u001b[0m\u001b[1;33m:\u001b[0m\u001b[1;33m\u001b[0m\u001b[1;33m\u001b[0m\u001b[0m\n",
      "\u001b[1;31mFileNotFoundError\u001b[0m: [Errno 2] No such file or directory: 'c:\\\\Users\\\\Felipe\\\\Desktop\\\\Robot space arm project\\\\kinematics-of-a-space-robot\\\\pydy-resources\\\\pydy-resources\\\\pydy-resources\\\\pydy-resources\\\\pydy-resources\\\\pydy-resources\\\\pydy-resources\\\\pydy-resources\\\\pydy-resources\\\\pydy-resources\\\\fonts\\\\glyphicons-halflings-regular.eot'",
      "\nDuring handling of the above exception, another exception occurred:\n",
      "\u001b[1;31mDistutilsFileError\u001b[0m                        Traceback (most recent call last)",
      "\u001b[1;32m<ipython-input-58-d3b03d268a5a>\u001b[0m in \u001b[0;36m<module>\u001b[1;34m\u001b[0m\n\u001b[1;32m----> 1\u001b[1;33m \u001b[0mscene\u001b[0m\u001b[1;33m.\u001b[0m\u001b[0mdisplay\u001b[0m\u001b[1;33m(\u001b[0m\u001b[1;33m)\u001b[0m\u001b[1;33m\u001b[0m\u001b[1;33m\u001b[0m\u001b[0m\n\u001b[0m",
      "\u001b[1;32mC:\\ProgramData\\Anaconda3\\lib\\site-packages\\pydy\\viz\\scene.py\u001b[0m in \u001b[0;36mdisplay\u001b[1;34m(self)\u001b[0m\n\u001b[0;32m    603\u001b[0m     \u001b[1;32mdef\u001b[0m \u001b[0mdisplay\u001b[0m\u001b[1;33m(\u001b[0m\u001b[0mself\u001b[0m\u001b[1;33m)\u001b[0m\u001b[1;33m:\u001b[0m\u001b[1;33m\u001b[0m\u001b[1;33m\u001b[0m\u001b[0m\n\u001b[0;32m    604\u001b[0m         \u001b[1;34m\"\"\"Displays the scene in the default web browser.\"\"\"\u001b[0m\u001b[1;33m\u001b[0m\u001b[1;33m\u001b[0m\u001b[0m\n\u001b[1;32m--> 605\u001b[1;33m         \u001b[0mself\u001b[0m\u001b[1;33m.\u001b[0m\u001b[0mcreate_static_html\u001b[0m\u001b[1;33m(\u001b[0m\u001b[0moverwrite\u001b[0m\u001b[1;33m=\u001b[0m\u001b[1;32mTrue\u001b[0m\u001b[1;33m,\u001b[0m \u001b[0msilent\u001b[0m\u001b[1;33m=\u001b[0m\u001b[1;32mTrue\u001b[0m\u001b[1;33m)\u001b[0m\u001b[1;33m\u001b[0m\u001b[1;33m\u001b[0m\u001b[0m\n\u001b[0m\u001b[0;32m    606\u001b[0m         \u001b[0mresource_dir\u001b[0m \u001b[1;33m=\u001b[0m \u001b[0mos\u001b[0m\u001b[1;33m.\u001b[0m\u001b[0mpath\u001b[0m\u001b[1;33m.\u001b[0m\u001b[0mjoin\u001b[0m\u001b[1;33m(\u001b[0m\u001b[0mos\u001b[0m\u001b[1;33m.\u001b[0m\u001b[0mgetcwd\u001b[0m\u001b[1;33m(\u001b[0m\u001b[1;33m)\u001b[0m\u001b[1;33m,\u001b[0m \u001b[0mself\u001b[0m\u001b[1;33m.\u001b[0m\u001b[0mpydy_directory\u001b[0m\u001b[1;33m)\u001b[0m\u001b[1;33m\u001b[0m\u001b[1;33m\u001b[0m\u001b[0m\n\u001b[0;32m    607\u001b[0m         server = Server(scene_file=self._scene_json_file,\n",
      "\u001b[1;32mC:\\ProgramData\\Anaconda3\\lib\\site-packages\\pydy\\viz\\scene.py\u001b[0m in \u001b[0;36mcreate_static_html\u001b[1;34m(self, overwrite, silent, prefix)\u001b[0m\n\u001b[0;32m    558\u001b[0m             \u001b[0mprint\u001b[0m\u001b[1;33m(\u001b[0m\u001b[1;34m\"Copying static data.\"\u001b[0m\u001b[1;33m)\u001b[0m\u001b[1;33m\u001b[0m\u001b[1;33m\u001b[0m\u001b[0m\n\u001b[0;32m    559\u001b[0m         \u001b[0msrc\u001b[0m \u001b[1;33m=\u001b[0m \u001b[0mos\u001b[0m\u001b[1;33m.\u001b[0m\u001b[0mpath\u001b[0m\u001b[1;33m.\u001b[0m\u001b[0mjoin\u001b[0m\u001b[1;33m(\u001b[0m\u001b[0mos\u001b[0m\u001b[1;33m.\u001b[0m\u001b[0mpath\u001b[0m\u001b[1;33m.\u001b[0m\u001b[0mdirname\u001b[0m\u001b[1;33m(\u001b[0m\u001b[0m__file__\u001b[0m\u001b[1;33m)\u001b[0m\u001b[1;33m,\u001b[0m \u001b[1;34m'static'\u001b[0m\u001b[1;33m)\u001b[0m\u001b[1;33m\u001b[0m\u001b[1;33m\u001b[0m\u001b[0m\n\u001b[1;32m--> 560\u001b[1;33m         \u001b[0mdistutils\u001b[0m\u001b[1;33m.\u001b[0m\u001b[0mdir_util\u001b[0m\u001b[1;33m.\u001b[0m\u001b[0mcopy_tree\u001b[0m\u001b[1;33m(\u001b[0m\u001b[0msrc\u001b[0m\u001b[1;33m,\u001b[0m \u001b[0mpydy_dir\u001b[0m\u001b[1;33m)\u001b[0m\u001b[1;33m\u001b[0m\u001b[1;33m\u001b[0m\u001b[0m\n\u001b[0m\u001b[0;32m    561\u001b[0m \u001b[1;33m\u001b[0m\u001b[0m\n\u001b[0;32m    562\u001b[0m         \u001b[1;31m# Add the two json files to the directory.\u001b[0m\u001b[1;33m\u001b[0m\u001b[1;33m\u001b[0m\u001b[1;33m\u001b[0m\u001b[0m\n",
      "\u001b[1;32mC:\\ProgramData\\Anaconda3\\lib\\distutils\\dir_util.py\u001b[0m in \u001b[0;36mcopy_tree\u001b[1;34m(src, dst, preserve_mode, preserve_times, preserve_symlinks, update, verbose, dry_run)\u001b[0m\n\u001b[0;32m    157\u001b[0m                 copy_tree(src_name, dst_name, preserve_mode,\n\u001b[0;32m    158\u001b[0m                           \u001b[0mpreserve_times\u001b[0m\u001b[1;33m,\u001b[0m \u001b[0mpreserve_symlinks\u001b[0m\u001b[1;33m,\u001b[0m \u001b[0mupdate\u001b[0m\u001b[1;33m,\u001b[0m\u001b[1;33m\u001b[0m\u001b[1;33m\u001b[0m\u001b[0m\n\u001b[1;32m--> 159\u001b[1;33m                           verbose=verbose, dry_run=dry_run))\n\u001b[0m\u001b[0;32m    160\u001b[0m         \u001b[1;32melse\u001b[0m\u001b[1;33m:\u001b[0m\u001b[1;33m\u001b[0m\u001b[1;33m\u001b[0m\u001b[0m\n\u001b[0;32m    161\u001b[0m             copy_file(src_name, dst_name, preserve_mode,\n",
      "\u001b[1;32mC:\\ProgramData\\Anaconda3\\lib\\distutils\\dir_util.py\u001b[0m in \u001b[0;36mcopy_tree\u001b[1;34m(src, dst, preserve_mode, preserve_times, preserve_symlinks, update, verbose, dry_run)\u001b[0m\n\u001b[0;32m    161\u001b[0m             copy_file(src_name, dst_name, preserve_mode,\n\u001b[0;32m    162\u001b[0m                       \u001b[0mpreserve_times\u001b[0m\u001b[1;33m,\u001b[0m \u001b[0mupdate\u001b[0m\u001b[1;33m,\u001b[0m \u001b[0mverbose\u001b[0m\u001b[1;33m=\u001b[0m\u001b[0mverbose\u001b[0m\u001b[1;33m,\u001b[0m\u001b[1;33m\u001b[0m\u001b[1;33m\u001b[0m\u001b[0m\n\u001b[1;32m--> 163\u001b[1;33m                       dry_run=dry_run)\n\u001b[0m\u001b[0;32m    164\u001b[0m             \u001b[0moutputs\u001b[0m\u001b[1;33m.\u001b[0m\u001b[0mappend\u001b[0m\u001b[1;33m(\u001b[0m\u001b[0mdst_name\u001b[0m\u001b[1;33m)\u001b[0m\u001b[1;33m\u001b[0m\u001b[1;33m\u001b[0m\u001b[0m\n\u001b[0;32m    165\u001b[0m \u001b[1;33m\u001b[0m\u001b[0m\n",
      "\u001b[1;32mC:\\ProgramData\\Anaconda3\\lib\\distutils\\file_util.py\u001b[0m in \u001b[0;36mcopy_file\u001b[1;34m(src, dst, preserve_mode, preserve_times, update, link, verbose, dry_run)\u001b[0m\n\u001b[0;32m    149\u001b[0m     \u001b[1;31m# Otherwise (non-Mac, not linking), copy the file contents and\u001b[0m\u001b[1;33m\u001b[0m\u001b[1;33m\u001b[0m\u001b[1;33m\u001b[0m\u001b[0m\n\u001b[0;32m    150\u001b[0m     \u001b[1;31m# (optionally) copy the times and mode.\u001b[0m\u001b[1;33m\u001b[0m\u001b[1;33m\u001b[0m\u001b[1;33m\u001b[0m\u001b[0m\n\u001b[1;32m--> 151\u001b[1;33m     \u001b[0m_copy_file_contents\u001b[0m\u001b[1;33m(\u001b[0m\u001b[0msrc\u001b[0m\u001b[1;33m,\u001b[0m \u001b[0mdst\u001b[0m\u001b[1;33m)\u001b[0m\u001b[1;33m\u001b[0m\u001b[1;33m\u001b[0m\u001b[0m\n\u001b[0m\u001b[0;32m    152\u001b[0m     \u001b[1;32mif\u001b[0m \u001b[0mpreserve_mode\u001b[0m \u001b[1;32mor\u001b[0m \u001b[0mpreserve_times\u001b[0m\u001b[1;33m:\u001b[0m\u001b[1;33m\u001b[0m\u001b[1;33m\u001b[0m\u001b[0m\n\u001b[0;32m    153\u001b[0m         \u001b[0mst\u001b[0m \u001b[1;33m=\u001b[0m \u001b[0mos\u001b[0m\u001b[1;33m.\u001b[0m\u001b[0mstat\u001b[0m\u001b[1;33m(\u001b[0m\u001b[0msrc\u001b[0m\u001b[1;33m)\u001b[0m\u001b[1;33m\u001b[0m\u001b[1;33m\u001b[0m\u001b[0m\n",
      "\u001b[1;32mC:\\ProgramData\\Anaconda3\\lib\\distutils\\file_util.py\u001b[0m in \u001b[0;36m_copy_file_contents\u001b[1;34m(src, dst, buffer_size)\u001b[0m\n\u001b[0;32m     42\u001b[0m         \u001b[1;32mexcept\u001b[0m \u001b[0mOSError\u001b[0m \u001b[1;32mas\u001b[0m \u001b[0me\u001b[0m\u001b[1;33m:\u001b[0m\u001b[1;33m\u001b[0m\u001b[1;33m\u001b[0m\u001b[0m\n\u001b[0;32m     43\u001b[0m             raise DistutilsFileError(\n\u001b[1;32m---> 44\u001b[1;33m                   \"could not create '%s': %s\" % (dst, e.strerror))\n\u001b[0m\u001b[0;32m     45\u001b[0m \u001b[1;33m\u001b[0m\u001b[0m\n\u001b[0;32m     46\u001b[0m         \u001b[1;32mwhile\u001b[0m \u001b[1;32mTrue\u001b[0m\u001b[1;33m:\u001b[0m\u001b[1;33m\u001b[0m\u001b[1;33m\u001b[0m\u001b[0m\n",
      "\u001b[1;31mDistutilsFileError\u001b[0m: could not create 'c:\\Users\\Felipe\\Desktop\\Robot space arm project\\kinematics-of-a-space-robot\\pydy-resources\\pydy-resources\\pydy-resources\\pydy-resources\\pydy-resources\\pydy-resources\\pydy-resources\\pydy-resources\\pydy-resources\\pydy-resources\\fonts\\glyphicons-halflings-regular.eot': No such file or directory"
     ]
    }
   ],
   "source": [
    "scene.display()"
   ]
  },
  {
   "cell_type": "code",
   "execution_count": null,
   "metadata": {},
   "outputs": [],
   "source": []
  }
 ]
}