{
 "metadata": {
  "language_info": {
   "codemirror_mode": {
    "name": "ipython",
    "version": 3
   },
   "file_extension": ".py",
   "mimetype": "text/x-python",
   "name": "python",
   "nbconvert_exporter": "python",
   "pygments_lexer": "ipython3",
   "version": "3.7.3-final"
  },
  "orig_nbformat": 2,
  "kernelspec": {
   "name": "python3",
   "display_name": "Python 3",
   "language": "python"
  }
 },
 "nbformat": 4,
 "nbformat_minor": 2,
 "cells": [
  {
   "source": [
    "## Reference frames\n",
    "\n",
    "In classic mechanics, a reference frame is needed to be able to relate different rigid bodies movement with respect to each other. The reference frame consists of an abstract coordinate system that uniquely fix the coordinate system.\n",
    "\n",
    "In SymPy mechanics, the object `ReferenceFrame` is a class used for that purpose. It has three unit vectors in the `x`, `y` and `z` directions. The object `init_vprinting` initializes the time derivative printing for all SymPy objects and display time derivatives notation more compact. The object `dynamicsymbols` creates a SymPy symbolic function, initialized as a function of a variable (in this case is 't' for time)."
   ],
   "cell_type": "markdown",
   "metadata": {}
  },
  {
   "cell_type": "code",
   "execution_count": 17,
   "metadata": {},
   "outputs": [],
   "source": [
    "from sympy.physics.mechanics import ReferenceFrame\n",
    "from sympy import init_printing\n",
    "from sympy.physics.vector import dynamicsymbols\n",
    "#from sympy.physics.vector import init_printing, dynamicsymbols\n",
    "init_printing(use_latex='mathjax', pretty_print=False)\n"
   ]
  },
  {
   "source": [
    "---\n",
    "The code below instantiate the inertial frame, lower arm, upper arm, hand, finger 1 and finger 2 reference frames to its respective variable:"
   ],
   "cell_type": "markdown",
   "metadata": {}
  },
  {
   "cell_type": "code",
   "execution_count": 18,
   "metadata": {},
   "outputs": [],
   "source": [
    "inertial_frame, lower_arm_frame, upper_arm_frame = ReferenceFrame('I'), ReferenceFrame('L'), ReferenceFrame('U')\n",
    "hand_frame, finger1_frame, finger2_frame = ReferenceFrame('H'), ReferenceFrame('F1'), ReferenceFrame('F2')"
   ]
  },
  {
   "source": [
    "Now, the variables are associated with its respective symbols:"
   ],
   "cell_type": "markdown",
   "metadata": {}
  },
  {
   "cell_type": "code",
   "execution_count": 19,
   "metadata": {},
   "outputs": [
    {
     "output_type": "execute_result",
     "data": {
      "text/plain": [
       "(lambda1(t), lambda2(t), lambda3(t), lambda4(t), lambda5(t))"
      ],
      "text/latex": "$\\displaystyle \\left( \\lambda_{1}{\\left(t \\right)}, \\  \\lambda_{2}{\\left(t \\right)}, \\  \\lambda_{3}{\\left(t \\right)}, \\  \\lambda_{4}{\\left(t \\right)}, \\  \\lambda_{5}{\\left(t \\right)}\\right)$"
     },
     "metadata": {},
     "execution_count": 19
    }
   ],
   "source": [
    "lambda1, lambda2, lambda3, lambda4, lambda5 = dynamicsymbols('lambda1, lambda2, lambda3, lambda4, lambda5')\n",
    "lambda1, lambda2, lambda3, lambda4, lambda5"
   ]
  },
  {
   "source": [
    "---\n",
    "With the reference frames setted, we must associate the variables and its directions with its respective reference frames and rigid bodies. First, we associate the lower arm with the inertial frame, then the upper arm with the lower arm and so on. The inertial frame has `x` unit vector pointing to the left hand side (LHS), whereas the `y` unit vector points upwards. The `z` axis is considered to be perpendicular to the plane of the model. For this, the method `orient` from `ReferenceFrame` class is used:"
   ],
   "cell_type": "markdown",
   "metadata": {}
  },
  {
   "cell_type": "code",
   "execution_count": 20,
   "metadata": {},
   "outputs": [],
   "source": [
    "lower_arm_frame.orient(inertial_frame, 'Axis', (lambda1, inertial_frame.z))\n",
    "upper_arm_frame.orient(lower_arm_frame, 'Axis', (lambda2, lower_arm_frame.z))\n",
    "hand_frame.orient(upper_arm_frame, 'Axis', (lambda3, upper_arm_frame.z))\n",
    "finger1_frame.orient(hand_frame, 'Axis', (lambda4, hand_frame.z))\n",
    "finger2_frame.orient(hand_frame, 'Axis', (lambda5, hand_frame.z))"
   ]
  },
  {
   "source": [
    "Now, we can display the direction cosine matrix (DCM), which transforms the coordinate of one reference frame to another:"
   ],
   "cell_type": "markdown",
   "metadata": {}
  },
  {
   "cell_type": "code",
   "execution_count": 21,
   "metadata": {},
   "outputs": [
    {
     "output_type": "execute_result",
     "data": {
      "text/plain": [
       "Matrix([\n",
       "[ cos(lambda1(t)), sin(lambda1(t)), 0],\n",
       "[-sin(lambda1(t)), cos(lambda1(t)), 0],\n",
       "[               0,               0, 1]])"
      ],
      "text/latex": "$\\displaystyle \\left[\\begin{matrix}\\cos{\\left(\\lambda_{1}{\\left(t \\right)} \\right)} & \\sin{\\left(\\lambda_{1}{\\left(t \\right)} \\right)} & 0\\\\- \\sin{\\left(\\lambda_{1}{\\left(t \\right)} \\right)} & \\cos{\\left(\\lambda_{1}{\\left(t \\right)} \\right)} & 0\\\\0 & 0 & 1\\end{matrix}\\right]$"
     },
     "metadata": {},
     "execution_count": 21
    }
   ],
   "source": [
    "lower_arm_frame.dcm(inertial_frame).simplify()"
   ]
  },
  {
   "cell_type": "code",
   "execution_count": 22,
   "metadata": {},
   "outputs": [
    {
     "output_type": "execute_result",
     "data": {
      "text/plain": [
       "Matrix([\n",
       "[ cos(lambda1(t) + lambda2(t)), sin(lambda1(t) + lambda2(t)), 0],\n",
       "[-sin(lambda1(t) + lambda2(t)), cos(lambda1(t) + lambda2(t)), 0],\n",
       "[                            0,                            0, 1]])"
      ],
      "text/latex": "$\\displaystyle \\left[\\begin{matrix}\\cos{\\left(\\lambda_{1}{\\left(t \\right)} + \\lambda_{2}{\\left(t \\right)} \\right)} & \\sin{\\left(\\lambda_{1}{\\left(t \\right)} + \\lambda_{2}{\\left(t \\right)} \\right)} & 0\\\\- \\sin{\\left(\\lambda_{1}{\\left(t \\right)} + \\lambda_{2}{\\left(t \\right)} \\right)} & \\cos{\\left(\\lambda_{1}{\\left(t \\right)} + \\lambda_{2}{\\left(t \\right)} \\right)} & 0\\\\0 & 0 & 1\\end{matrix}\\right]$"
     },
     "metadata": {},
     "execution_count": 22
    }
   ],
   "source": [
    "upper_arm_frame.dcm(inertial_frame).simplify()"
   ]
  },
  {
   "cell_type": "code",
   "execution_count": 25,
   "metadata": {},
   "outputs": [
    {
     "output_type": "execute_result",
     "data": {
      "text/plain": [
       "Matrix([\n",
       "[ cos(lambda1(t) + lambda2(t) + lambda3(t)), sin(lambda1(t) + lambda2(t) + lambda3(t)), 0],\n",
       "[-sin(lambda1(t) + lambda2(t) + lambda3(t)), cos(lambda1(t) + lambda2(t) + lambda3(t)), 0],\n",
       "[                                         0,                                         0, 1]])"
      ],
      "text/latex": "$\\displaystyle \\left[\\begin{matrix}\\cos{\\left(\\lambda_{1}{\\left(t \\right)} + \\lambda_{2}{\\left(t \\right)} + \\lambda_{3}{\\left(t \\right)} \\right)} & \\sin{\\left(\\lambda_{1}{\\left(t \\right)} + \\lambda_{2}{\\left(t \\right)} + \\lambda_{3}{\\left(t \\right)} \\right)} & 0\\\\- \\sin{\\left(\\lambda_{1}{\\left(t \\right)} + \\lambda_{2}{\\left(t \\right)} + \\lambda_{3}{\\left(t \\right)} \\right)} & \\cos{\\left(\\lambda_{1}{\\left(t \\right)} + \\lambda_{2}{\\left(t \\right)} + \\lambda_{3}{\\left(t \\right)} \\right)} & 0\\\\0 & 0 & 1\\end{matrix}\\right]$"
     },
     "metadata": {},
     "execution_count": 25
    }
   ],
   "source": [
    "hand_frame.dcm(inertial_frame).simplify()"
   ]
  },
  {
   "cell_type": "code",
   "execution_count": 24,
   "metadata": {},
   "outputs": [
    {
     "output_type": "execute_result",
     "data": {
      "text/plain": [
       "Matrix([\n",
       "[ cos(lambda1(t) + lambda2(t) + lambda3(t) + lambda4(t)), sin(lambda1(t) + lambda2(t) + lambda3(t) + lambda4(t)), 0],\n",
       "[-sin(lambda1(t) + lambda2(t) + lambda3(t) + lambda4(t)), cos(lambda1(t) + lambda2(t) + lambda3(t) + lambda4(t)), 0],\n",
       "[                                                      0,                                                      0, 1]])"
      ],
      "text/latex": "$\\displaystyle \\left[\\begin{matrix}\\cos{\\left(\\lambda_{1}{\\left(t \\right)} + \\lambda_{2}{\\left(t \\right)} + \\lambda_{3}{\\left(t \\right)} + \\lambda_{4}{\\left(t \\right)} \\right)} & \\sin{\\left(\\lambda_{1}{\\left(t \\right)} + \\lambda_{2}{\\left(t \\right)} + \\lambda_{3}{\\left(t \\right)} + \\lambda_{4}{\\left(t \\right)} \\right)} & 0\\\\- \\sin{\\left(\\lambda_{1}{\\left(t \\right)} + \\lambda_{2}{\\left(t \\right)} + \\lambda_{3}{\\left(t \\right)} + \\lambda_{4}{\\left(t \\right)} \\right)} & \\cos{\\left(\\lambda_{1}{\\left(t \\right)} + \\lambda_{2}{\\left(t \\right)} + \\lambda_{3}{\\left(t \\right)} + \\lambda_{4}{\\left(t \\right)} \\right)} & 0\\\\0 & 0 & 1\\end{matrix}\\right]$"
     },
     "metadata": {},
     "execution_count": 24
    }
   ],
   "source": [
    "finger1_frame.dcm(inertial_frame).simplify()"
   ]
  },
  {
   "cell_type": "code",
   "execution_count": 23,
   "metadata": {},
   "outputs": [
    {
     "output_type": "execute_result",
     "data": {
      "text/plain": [
       "Matrix([\n",
       "[ cos(lambda1(t) + lambda2(t) + lambda3(t) + lambda5(t)), sin(lambda1(t) + lambda2(t) + lambda3(t) + lambda5(t)), 0],\n",
       "[-sin(lambda1(t) + lambda2(t) + lambda3(t) + lambda5(t)), cos(lambda1(t) + lambda2(t) + lambda3(t) + lambda5(t)), 0],\n",
       "[                                                      0,                                                      0, 1]])"
      ],
      "text/latex": "$\\displaystyle \\left[\\begin{matrix}\\cos{\\left(\\lambda_{1}{\\left(t \\right)} + \\lambda_{2}{\\left(t \\right)} + \\lambda_{3}{\\left(t \\right)} + \\lambda_{5}{\\left(t \\right)} \\right)} & \\sin{\\left(\\lambda_{1}{\\left(t \\right)} + \\lambda_{2}{\\left(t \\right)} + \\lambda_{3}{\\left(t \\right)} + \\lambda_{5}{\\left(t \\right)} \\right)} & 0\\\\- \\sin{\\left(\\lambda_{1}{\\left(t \\right)} + \\lambda_{2}{\\left(t \\right)} + \\lambda_{3}{\\left(t \\right)} + \\lambda_{5}{\\left(t \\right)} \\right)} & \\cos{\\left(\\lambda_{1}{\\left(t \\right)} + \\lambda_{2}{\\left(t \\right)} + \\lambda_{3}{\\left(t \\right)} + \\lambda_{5}{\\left(t \\right)} \\right)} & 0\\\\0 & 0 & 1\\end{matrix}\\right]$"
     },
     "metadata": {},
     "execution_count": 23
    }
   ],
   "source": [
    "finger2_frame.dcm(inertial_frame).simplify()"
   ]
  }
 ]
}