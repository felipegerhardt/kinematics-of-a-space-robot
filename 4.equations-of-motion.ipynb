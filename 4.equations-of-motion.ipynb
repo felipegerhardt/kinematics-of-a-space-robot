{
 "metadata": {
  "language_info": {
   "codemirror_mode": {
    "name": "ipython",
    "version": 3
   },
   "file_extension": ".py",
   "mimetype": "text/x-python",
   "name": "python",
   "nbconvert_exporter": "python",
   "pygments_lexer": "ipython3",
   "version": "3.7.3-final"
  },
  "orig_nbformat": 2,
  "kernelspec": {
   "name": "python3",
   "display_name": "Python 3",
   "language": "python"
  }
 },
 "nbformat": 4,
 "nbformat_minor": 2,
 "cells": [
  {
   "source": [
    "### Equations of motion\n",
    "\n",
    "First, to completely define the rigid bodies, all the information in the previous notebook must be, that is: the mass center points, the reference frames and the inertia. Then, we must declare the effect of gravity in all rigid bodies. \n",
    "\n",
    "Also, we must specify the joint torques that will simulate the driving forces acting upon the arm parts.\n",
    "\n",
    "Finally, we derive the equations of motion of the system using Kane's Method."
   ],
   "cell_type": "markdown",
   "metadata": {}
  },
  {
   "source": [
    "---\n",
    "#### Declaring the rigid bodies\n",
    "\n",
    "Below, we use the `RigidBody` method to define each rigid body:"
   ],
   "cell_type": "markdown",
   "metadata": {}
  },
  {
   "cell_type": "code",
   "execution_count": 1,
   "metadata": {},
   "outputs": [
    {
     "output_type": "stream",
     "name": "stdout",
     "text": [
      "Reference frame file loaded\nPoints and locations file loaded\n"
     ]
    }
   ],
   "source": [
    "from inertial_properties_solution import *\n",
    "from sympy.physics.mechanics import RigidBody\n",
    "from IPython.display import Image"
   ]
  },
  {
   "cell_type": "code",
   "execution_count": 2,
   "metadata": {},
   "outputs": [],
   "source": [
    "# Lower arm rigid body\n",
    "lower_arm = RigidBody('Lower Arm', lower_arm_mass_center, lower_arm_frame, \n",
    "                     lower_arm_mass, lower_arm_central_inertia)\n",
    "\n",
    "# Upper arm rigid body\n",
    "upper_arm = RigidBody('Upper Arm', upper_arm_mass_center, upper_arm_frame, \n",
    "                     upper_arm_mass, upper_arm_central_inertia)\n",
    "\n",
    "# Hand rigid body\n",
    "hand = RigidBody('Hand', hand_mass_center, hand_frame, \n",
    "                     hand_mass, hand_central_inertia)\n",
    "\n",
    "# Finger1 rigid body\n",
    "finger1 = RigidBody('Finger 1', finger1_mass_center, finger1_frame, \n",
    "                     finger1_mass, finger1_central_inertia)\n",
    "\n",
    "# Finge2 rigid body\n",
    "finger2 = RigidBody('Finger 2', finger2_mass_center, finger2_frame, \n",
    "                     finger2_mass, finger2_central_inertia)"
   ]
  },
  {
   "source": [
    "---\n",
    "#### Gravity effects\n",
    "\n",
    "First, declare a `symbols` variable, since gravity value is considered to be constant. Then, since forces are bound vectors, i.e. they act on a point, we must associate the force with the mass of each rigid body in the `y` direction of the inertial reference frame."
   ],
   "cell_type": "markdown",
   "metadata": {}
  },
  {
   "cell_type": "code",
   "execution_count": 3,
   "metadata": {},
   "outputs": [
    {
     "output_type": "execute_result",
     "data": {
      "text/plain": [
       "(- g*m_L*I.y, - g*m_U*I.y, - g*m_H*I.y, - g*m_F1*I.y, - g*m_F2*I.y)"
      ],
      "text/latex": "$\\displaystyle \\left( -  g m_{L}\\mathbf{\\hat{i}_y}, \\  -  g m_{U}\\mathbf{\\hat{i}_y}, \\  -  g m_{H}\\mathbf{\\hat{i}_y}, \\  -  g m_{F1}\\mathbf{\\hat{i}_y}, \\  -  g m_{F2}\\mathbf{\\hat{i}_y}\\right)$"
     },
     "metadata": {},
     "execution_count": 3
    }
   ],
   "source": [
    "g = symbols('g')\n",
    "\n",
    "# Force acting on the lower arm mass center\n",
    "lower_arm_grav_force_vector = -lower_arm_mass * g * inertial_frame.y\n",
    "\n",
    "# Force acting on the upper arm mass center\n",
    "upper_arm_grav_force_vector = -upper_arm_mass * g * inertial_frame.y\n",
    "\n",
    "# Force acting on the hand mass center\n",
    "hand_grav_force_vector = -hand_mass * g * inertial_frame.y\n",
    "\n",
    "# Force acting on the finger 1 mass center\n",
    "finger1_grav_force_vector = -finger1_mass * g * inertial_frame.y\n",
    "\n",
    "# Force acting on the finger2 mass center\n",
    "finger2_grav_force_vector = -finger2_mass * g * inertial_frame.y\n",
    "\n",
    "# Display gravity forces\n",
    "lower_arm_grav_force_vector, upper_arm_grav_force_vector,  hand_grav_force_vector, finger1_grav_force_vector, finger2_grav_force_vector"
   ]
  },
  {
   "source": [
    "Now, we make a tuple to represent the bound vector acting on the mass center of each rigid body:"
   ],
   "cell_type": "markdown",
   "metadata": {}
  },
  {
   "cell_type": "code",
   "execution_count": 4,
   "metadata": {},
   "outputs": [],
   "source": [
    "# Lower arm gravity force tuple\n",
    "lower_arm_grav_force = (lower_arm_mass_center, lower_arm_grav_force_vector)\n",
    "\n",
    "# Upper arm gravity force tuple\n",
    "upper_arm_grav_force = (upper_arm_mass_center, upper_arm_grav_force_vector)\n",
    "\n",
    "# Hand gravity force tuple\n",
    "hand_grav_force = (hand_mass_center, hand_grav_force_vector)\n",
    "\n",
    "# Finger 1 gravity force tuple\n",
    "finger1_grav_force = (finger1_mass_center, finger1_grav_force_vector)\n",
    "\n",
    "# Finger 2 gravity force tuple\n",
    "finger2_grav_force = (finger2_mass_center, finger2_grav_force_vector)"
   ]
  },
  {
   "source": [
    "#### Joint torques\n",
    "\n",
    "As the robot arm movement will be fixed, only the torques acting on the joint will change under different gravity conditions. To satisfy the conditions of the simulation, the torques must be varying with time, which means it must be a `dynamicsymbols` variable."
   ],
   "cell_type": "markdown",
   "metadata": {}
  },
  {
   "cell_type": "code",
   "execution_count": 5,
   "metadata": {},
   "outputs": [
    {
     "output_type": "execute_result",
     "data": {
      "text/plain": [
       "(T_g(t), T_l(t), T_u(t), T_f1(t), T_f2(t))"
      ],
      "text/latex": "$\\displaystyle \\left( \\operatorname{T_{g}}{\\left(t \\right)}, \\  \\operatorname{T_{l}}{\\left(t \\right)}, \\  \\operatorname{T_{u}}{\\left(t \\right)}, \\  \\operatorname{T_{f1}}{\\left(t \\right)}, \\  \\operatorname{T_{f2}}{\\left(t \\right)}\\right)$"
     },
     "metadata": {},
     "execution_count": 5
    }
   ],
   "source": [
    "ground_joint_torque, lower_arm_joint_torque, upper_arm_joint_torque, finger1_joint_torque, finger2_joint_torque = dynamicsymbols('T_g, T_l, T_u, T_f1, T_f2')\n",
    "\n",
    "# Display the torques\n",
    "ground_joint_torque, lower_arm_joint_torque, upper_arm_joint_torque, finger1_joint_torque, finger2_joint_torque"
   ]
  },
  {
   "source": [
    "<p align=\"center\">\n",
    "  <img src=https://user-images.githubusercontent.com/60149913/105992917-0faae000-607c-11eb-9b48-f4344caf0fc1.png width=639 height=738>\n",
    "</p>"
   ],
   "cell_type": "markdown",
   "metadata": {}
  },
  {
   "source": [
    "Now, we must specify the reference frame and the direction of all the torques acting on that reference frame. Newton's second law must not be forgotten, we must account all external torques acting upon a body, remembering that the torques acting on the lower arm joint from the upper arm frame is also acting on the lower arm rigid body with oposit force. The lower arm is under the ground joint torque and lower arm joint. The torques orientation will obey the image above."
   ],
   "cell_type": "markdown",
   "metadata": {}
  },
  {
   "cell_type": "code",
   "execution_count": 7,
   "metadata": {},
   "outputs": [
    {
     "output_type": "execute_result",
     "data": {
      "text/plain": [
       "((T_g - T_l)*I.z, (T_l - T_u)*I.z, T_f1*I.z, T_f2*I.z)"
      ],
      "text/latex": "$\\displaystyle \\left( (T_{g} - T_{l})\\mathbf{\\hat{i}_z}, \\  (T_{l} - T_{u})\\mathbf{\\hat{i}_z}, \\  T_{f1}\\mathbf{\\hat{i}_z}, \\  T_{f2}\\mathbf{\\hat{i}_z}\\right)$"
     },
     "metadata": {},
     "execution_count": 7
    }
   ],
   "source": [
    "# Lower arm torques\n",
    "lower_arm_torque_vector = ground_joint_torque * inertial_frame.z - lower_arm_joint_torque * inertial_frame.z\n",
    "\n",
    "# Upper arm torques\n",
    "upper_arm_torque_vector = lower_arm_joint_torque * inertial_frame.z - upper_arm_joint_torque * inertial_frame.z\n",
    "\n",
    "# Finger 1 torque\n",
    "finger1_torque_vector = finger1_joint_torque * inertial_frame.z\n",
    "\n",
    "# Figer 2 torque\n",
    "finger2_torque_vector = finger2_joint_torque * inertial_frame.z\n",
    "\n",
    "# Display the torques acting on the rigid bodies\n",
    "lower_arm_torque_vector, upper_arm_torque_vector, finger1_torque_vector, finger2_torque_vector"
   ]
  },
  {
   "source": [
    "Store the torques in a tuple containing the frame and the torque acting on the rigid body"
   ],
   "cell_type": "markdown",
   "metadata": {}
  },
  {
   "cell_type": "code",
   "execution_count": 8,
   "metadata": {},
   "outputs": [],
   "source": [
    "# Lower arm torque tuple\n",
    "lower_arm_torque = (lower_arm_frame, lower_arm_torque_vector)\n",
    "\n",
    "# Upper arm torque tuple\n",
    "upper_arm_torque = (upper_arm_frame, upper_arm_torque_vector)\n",
    "\n",
    "# Finger 1 torque tuple\n",
    "finger1_torque = (finger1_frame, finger1_torque_vector)\n",
    "\n",
    "# Finger 2 torque tuple\n",
    "finger2_torque = (finger2_frame, finger2_torque_vector)"
   ]
  },
  {
   "source": [
    "---\n",
    "#### Equations of motion\n",
    "\n",
    "By now, all the necessary components to derive the equations of motion for the system using Kane's Method have already been defined. We will use the `KanesMethod` class, which provides an automated computation of the first order ordinary differential equations given the above quantities. We will also use the `trigsimp` method to reduce expressions by using known trigonometry identities.\n"
   ],
   "cell_type": "markdown",
   "metadata": {}
  },
  {
   "cell_type": "code",
   "execution_count": 9,
   "metadata": {},
   "outputs": [],
   "source": [
    "from sympy import trigsimp\n",
    "from sympy.physics.mechanics import KanesMethod"
   ]
  },
  {
   "source": [
    "Among the input arguments in `KanesMethod` class, we will use the minimum needed for unconstrained systems: the generalized speeds, kinematical differential equations, the loads, the bodies and a Newtonian reference frame. First, we will need the initial conditions for the angular velocities of the bodies and linear velocities of the points. The ground point's velocity will be setted to zero.\n",
    "\n",
    "Also, we will create the angular velocities `dynamicsymbols` and enforce the relationship between the generalized coordinates and the angular velocities. Then, we create a list for the coordinates and speeds:"
   ],
   "cell_type": "markdown",
   "metadata": {}
  },
  {
   "cell_type": "code",
   "execution_count": 10,
   "metadata": {},
   "outputs": [
    {
     "output_type": "execute_result",
     "data": {
      "text/plain": [
       "[omega1(t) - Derivative(lambda1(t), t), omega2(t) - Derivative(lambda2(t), t), omega3(t) - Derivative(lambda3(t), t), omega4(t) - Derivative(lambda4(t), t), omega5(t) - Derivative(lambda5(t), t)]"
      ],
      "text/latex": "$\\displaystyle \\left[ \\omega_{1}{\\left(t \\right)} - \\frac{d}{d t} \\lambda_{1}{\\left(t \\right)}, \\  \\omega_{2}{\\left(t \\right)} - \\frac{d}{d t} \\lambda_{2}{\\left(t \\right)}, \\  \\omega_{3}{\\left(t \\right)} - \\frac{d}{d t} \\lambda_{3}{\\left(t \\right)}, \\  \\omega_{4}{\\left(t \\right)} - \\frac{d}{d t} \\lambda_{4}{\\left(t \\right)}, \\  \\omega_{5}{\\left(t \\right)} - \\frac{d}{d t} \\lambda_{5}{\\left(t \\right)}\\right]$"
     },
     "metadata": {},
     "execution_count": 10
    }
   ],
   "source": [
    "# Creating angular velocities dynamicsymbols\n",
    "omega1, omega2, omega3, omega4, omega5 = dynamicsymbols('omega1, omega2, omega3, omega4, omega5')\n",
    "\n",
    "# Expliciting the relationship between the generalized coordinates and the angular velocities\n",
    "kinematical_differential_equations = [omega1 - lambda1.diff(),\n",
    "                                      omega2 - lambda2.diff(),\n",
    "                                      omega3 - lambda3.diff(),\n",
    "                                      omega4 - lambda4.diff(),\n",
    "                                      omega5 - lambda5.diff()]\n",
    "\n",
    "coordinates = [lambda1, lambda2, lambda3, lambda4, lambda5]\n",
    "\n",
    "speeds = [omega1, omega2, omega3, omega4, omega5]\n",
    "\n",
    "kinematical_differential_equations"
   ]
  },
  {
   "cell_type": "code",
   "execution_count": 11,
   "metadata": {},
   "outputs": [
    {
     "output_type": "execute_result",
     "data": {
      "text/plain": [
       "(- d_L*lambda1'*L.x, - l_L*lambda1'*L.x - d_U*(lambda1' + lambda2')*U.x)"
      ],
      "text/latex": "$\\displaystyle \\left( -  d_{L} \\dot{\\lambda}_{1}\\mathbf{\\hat{l}_x}, \\  -  l_{L} \\dot{\\lambda}_{1}\\mathbf{\\hat{l}_x} -  d_{U} \\left(\\dot{\\lambda}_{1} + \\dot{\\lambda}_{2}\\right)\\mathbf{\\hat{u}_x}\\right)$"
     },
     "metadata": {},
     "execution_count": 11
    }
   ],
   "source": [
    "# Linear velocities\n",
    "\n",
    "# Initial velocity of the ground point is zero\n",
    "ground_joint.set_vel(inertial_frame, 0) \n",
    "\n",
    "# The mass center and joint points linear velocity of the bodies will be calculated upwards through the rigid body two point equation\n",
    "\n",
    "# Lower arm\n",
    "lower_arm_mass_center.v2pt_theory(ground_joint, inertial_frame, lower_arm_frame)\n",
    "lower_arm_mass_center.vel(inertial_frame)\n",
    "\n",
    "lower_arm_joint.v2pt_theory(ground_joint, inertial_frame, lower_arm_frame)\n",
    "lower_arm_joint.vel(inertial_frame)\n",
    "\n",
    "# Upper arm\n",
    "upper_arm_mass_center.v2pt_theory(lower_arm_joint, inertial_frame, upper_arm_frame)\n",
    "upper_arm_mass_center.vel(inertial_frame)\n",
    "\n",
    "upper_arm_joint.v2pt_theory(lower_arm_joint, inertial_frame, upper_arm_frame)\n",
    "upper_arm_joint.vel(inertial_frame)\n",
    "\n",
    "# Hand\n",
    "hand_mass_center.v2pt_theory(upper_arm_joint, inertial_frame, hand_frame)\n",
    "hand_mass_center.vel(inertial_frame)\n",
    "\n",
    "hand_joint.v2pt_theory(upper_arm_joint, inertial_frame, hand_frame)\n",
    "hand_joint.vel(inertial_frame)\n",
    "\n",
    "# Finger 1\n",
    "finger1_mass_center.v2pt_theory(hand_joint, inertial_frame, finger1_frame)\n",
    "finger1_mass_center.vel(inertial_frame)\n",
    "\n",
    "# Finger 2\n",
    "finger2_mass_center.v2pt_theory(hand_joint, inertial_frame, finger2_frame)\n",
    "\n",
    "# Display the velocity of the lower arm and upper arm mass centers with respect to the inertial frame\n",
    "lower_arm_mass_center.vel(inertial_frame), upper_arm_mass_center.vel(inertial_frame)"
   ]
  },
  {
   "cell_type": "code",
   "execution_count": 12,
   "metadata": {},
   "outputs": [
    {
     "output_type": "execute_result",
     "data": {
      "text/plain": [
       "(omega1*I.z, (omega1 + omega2)*I.z, (omega1 + omega2 + omega3)*I.z, (omega1 + omega2 + omega3 + omega4)*I.z, (omega1 + omega2 + omega3 + omega5)*I.z)"
      ],
      "text/latex": "$\\displaystyle \\left( \\omega_{1}\\mathbf{\\hat{i}_z}, \\  (\\omega_{1} + \\omega_{2})\\mathbf{\\hat{i}_z}, \\  (\\omega_{1} + \\omega_{2} + \\omega_{3})\\mathbf{\\hat{i}_z}, \\  (\\omega_{1} + \\omega_{2} + \\omega_{3} + \\omega_{4})\\mathbf{\\hat{i}_z}, \\  (\\omega_{1} + \\omega_{2} + \\omega_{3} + \\omega_{5})\\mathbf{\\hat{i}_z}\\right)$"
     },
     "metadata": {},
     "execution_count": 12
    }
   ],
   "source": [
    "# Angular velocities\n",
    "lower_arm_frame.set_ang_vel(inertial_frame, omega1*inertial_frame.z)\n",
    "\n",
    "upper_arm_frame.set_ang_vel(lower_arm_frame, omega2*inertial_frame.z)\n",
    "\n",
    "hand_frame.set_ang_vel(upper_arm_frame, omega3*inertial_frame.z)\n",
    "\n",
    "finger1_frame.set_ang_vel(hand_frame, omega4*inertial_frame.z)\n",
    "\n",
    "finger2_frame.set_ang_vel(hand_frame, omega5*inertial_frame.z)\n",
    "\n",
    "# Display bodies angular velocities \n",
    "lower_arm_frame.ang_vel_in(inertial_frame), upper_arm_frame.ang_vel_in(inertial_frame), hand_frame.ang_vel_in(inertial_frame), finger1_frame.ang_vel_in(inertial_frame), finger2_frame.ang_vel_in(inertial_frame)"
   ]
  },
  {
   "cell_type": "code",
   "execution_count": 13,
   "metadata": {},
   "outputs": [],
   "source": [
    "# Inputing the KanesMethod, listing the loads and rigid bodies\n",
    "kane = KanesMethod(inertial_frame, coordinates, speeds, kinematical_differential_equations)\n",
    "\n",
    "loads = [lower_arm_grav_force,\n",
    "         upper_arm_grav_force,\n",
    "         hand_grav_force,\n",
    "         finger1_grav_force,\n",
    "         finger2_grav_force, \n",
    "         lower_arm_torque,\n",
    "         upper_arm_torque,\n",
    "         finger1_torque,\n",
    "         finger2_torque]\n",
    "         \n",
    "bodies = [lower_arm, upper_arm, hand, finger1, finger2]"
   ]
  },
  {
   "source": [
    "The equations of motion can be computed using `kanes_equations` method, which takes the lists in the cell above. The method returns the equations of motion in Kane's form, which is Fr+Fr* = 0."
   ],
   "cell_type": "markdown",
   "metadata": {}
  },
  {
   "source": [
    "The equations of motion are linear with respect to the derivatives of the generalized speeds. `KanesMethod` class puts the equations in the following form:\n",
    "\n",
    "- M(x,t)*d(x)/dt=f(x,t)\n",
    "\n",
    "We must generate the M (mass matrix) and f matrices. The f matrix is a vector function of the non-inertial forces, such as gyroscopic, external, coriolis, etc.). For this, we use the `mass_matrix` and `mass_matrix_full` methods to include the kinematical differential equations. "
   ],
   "cell_type": "markdown",
   "metadata": {}
  },
  {
   "cell_type": "code",
   "execution_count": 14,
   "metadata": {},
   "outputs": [],
   "source": [
    "# Tip: For 5 generalized coordinates, the matrices below tend to be very complex. Therefore, don't display them unless you need it.\n",
    "fr, frstar = kane.kanes_equations(bodies, loads)\n",
    "mass_matrix = trigsimp(kane.mass_matrix_full)\n",
    "forcing_vector = trigsimp(kane.forcing_full)"
   ]
  }
 ]
}